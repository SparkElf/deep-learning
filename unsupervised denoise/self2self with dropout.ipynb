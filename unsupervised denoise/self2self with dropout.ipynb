{
 "cells": [
  {
   "attachments": {},
   "cell_type": "markdown",
   "metadata": {},
   "source": [
    "# 简介\n",
    "- [self2self](https://openaccess.thecvf.com/content_CVPR_2020/papers/Quan_Self2Self_With_Dropout_Learning_Self-Supervised_Denoising_From_Single_Image_CVPR_2020_paper.pdf)是利用单张图片就可以进行去噪\n",
    "- 利用伯努利采样得到的图片作为去噪网络输入伯努利采样的补集作为预测目标\n",
    "- 仅在伯努利采样补集上计算损失\n",
    "- 在伯努利采样概率0.3下运行100000次效果比较好\n",
    "- 论文中的网络结构使用了partial convolution和dropout，dropout比较关键"
   ]
  },
  {
   "cell_type": "markdown",
   "metadata": {},
   "source": [
    "# 环境"
   ]
  },
  {
   "cell_type": "code",
   "execution_count": 1,
   "metadata": {
    "slideshow": {
     "slide_type": "subslide"
    }
   },
   "outputs": [
    {
     "name": "stdout",
     "output_type": "stream",
     "text": [
      "1.11.0+cu113\n",
      "cuda\n",
      "/root/autodl-tmp/deep-learning/unsupervised denoise\n"
     ]
    }
   ],
   "source": [
    "import torch\n",
    "import torchmetrics\n",
    "import torchvision\n",
    "import os\n",
    "import gc\n",
    "import torch.nn as nn\n",
    "from torchvision import transforms\n",
    "\n",
    "print(torch.__version__)\n",
    "device='cuda' if torch.cuda.is_available() else 'cpu'\n",
    "print(device)\n",
    "if device=='cuda':\n",
    "    gc.collect()\n",
    "    torch.cuda.empty_cache()\n",
    "print(os.getcwd())\n"
   ]
  },
  {
   "cell_type": "markdown",
   "metadata": {},
   "source": [
    "# 模型"
   ]
  },
  {
   "cell_type": "code",
   "execution_count": 2,
   "metadata": {},
   "outputs": [],
   "source": [
    "class HourGlassCNNBlock(nn.Module):\n",
    "    def __init__(self,in_channels,out_channels,size=128,layernorm=False,batchnorm=False,dropout=False,activation=True,dilation=1,padding=1,p=0.3):\n",
    "        super(HourGlassCNNBlock,self).__init__()\n",
    "        layers=[]\n",
    "        layers.append(nn.Conv2d(in_channels=in_channels, out_channels=out_channels, kernel_size=3, padding=padding,dilation=dilation))\n",
    "        if layernorm:layers.append(nn.LayerNorm([out_channels,size,size]))\n",
    "        if batchnorm:layers.append(nn.BatchNorm2d(out_channels))\n",
    "        if activation:layers.append(nn.SiLU())\n",
    "        if dropout:layers.append(nn.Dropout2d(0.3))\n",
    "        self.main=nn.Sequential(*layers)\n",
    "    def forward(self,x):\n",
    "        return self.main(x)#channel不同不能进行残差学习\n",
    "\n",
    "class HourGlassCNN(nn.Module):\n",
    "    def __init__(self,size=128,layernorm=False,batchnorm=False,max_channels=512,residual=True,dropout=True,p=0.3):\n",
    "        super(HourGlassCNN,self).__init__()\n",
    "        self.blocks=nn.ModuleList()\n",
    "        self.blocks.append( HourGlassCNNBlock(3,64,size,layernorm=False,batchnorm=False,p=p)),#0\n",
    "        channel=128\n",
    "        while channel<=max_channels:\n",
    "            self.blocks.append(HourGlassCNNBlock(channel//2,channel,size,layernorm,batchnorm,dropout=dropout,p=p))\n",
    "            channel*=2\n",
    "        channel//=2\n",
    "        while channel>64:\n",
    "            self.blocks.append(HourGlassCNNBlock(channel,channel//2,size,layernorm,batchnorm,dropout=dropout,p=p))\n",
    "            channel//=2\n",
    "        self.blocks.append(HourGlassCNNBlock(64,3,size,layernorm=False,batchnorm=False,activation=False,dropout=dropout,p=p))\n",
    "        self.residual=residual\n",
    "    def forward(self,x):\n",
    "        blocks_len=len(self.blocks)\n",
    "        y=[]#blocks[i]的输出是y[i]\n",
    "        y.append(self.blocks[0](x))#(3,64) 64,128 128,256 256,128 128,64 64,3\n",
    "        for i in range(1,blocks_len//2):y.append(self.blocks[i](y[i-1]))\n",
    "        for i in range(blocks_len//2,blocks_len-1):y.append(self.blocks[i](y[i-1])+y[blocks_len-i-2]if self.residual else self.blocks[i](y[i-1]))\n",
    "        return self.blocks[-1](y[-1])\n",
    "\n",
    "\n",
    "class Denoiser(nn.Module):\n",
    "    def __init__(self,size=128,layernorm=False,batchnorm=False,max_channels=512,p=0.3):\n",
    "        super(Denoiser,self).__init__()\n",
    "        self.main=HourGlassCNN(size,layernorm,batchnorm,max_channels,p=p)\n",
    "    def forward(self,x):\n",
    "        return self.main(x)+x\n"
   ]
  },
  {
   "cell_type": "markdown",
   "metadata": {},
   "source": [
    "# 分析"
   ]
  },
  {
   "cell_type": "code",
   "execution_count": 3,
   "metadata": {},
   "outputs": [],
   "source": [
    "import torch.utils.tensorboard\n",
    "from torch.utils.tensorboard.writer import SummaryWriter\n",
    "from tqdm.notebook import tqdm\n",
    "from torchvision.utils import make_grid\n",
    "from matplotlib import pyplot as plt\n",
    "from torchmetrics import PeakSignalNoiseRatio\n",
    "from torchmetrics import StructuralSimilarityIndexMeasure"
   ]
  },
  {
   "cell_type": "code",
   "execution_count": 4,
   "metadata": {},
   "outputs": [],
   "source": [
    "def convert_to_rgb255(image:torch.Tensor):\n",
    "    image = (image + 1) / 2\n",
    "    image[image < 0] = 0\n",
    "    image[image > 1] = 1\n",
    "    return image\n",
    "def show_image(image:torch.Tensor):\n",
    "    image=convert_to_rgb255(image)\n",
    "    plt.imshow(transforms.ToPILImage()(image))\n",
    "    plt.show()\n",
    "\n",
    "#writer=SummaryWriter()\n",
    "psnr=PeakSignalNoiseRatio().to(device=device)\n",
    "ssim=StructuralSimilarityIndexMeasure().to(device=device)#负数对应颜色反转\n"
   ]
  },
  {
   "cell_type": "markdown",
   "metadata": {},
   "source": [
    "# 数据"
   ]
  },
  {
   "cell_type": "code",
   "execution_count": 5,
   "metadata": {},
   "outputs": [],
   "source": [
    "\n",
    "from torch.utils.data import Dataset \n",
    "from torch.utils.data import DataLoader\n",
    "\n",
    "from PIL import Image\n",
    "def load_image():\n",
    "    img = Image.open('data/self2self_pytorch-main/examples/noisy.png').convert('RGB')#比torchvision的好\n",
    "    transform = transforms.Compose([\n",
    "            # hwc->chw 并 归一化到[0,1]\n",
    "            transforms.ToTensor(),\n",
    "            # [−1,1]\n",
    "            transforms.Normalize((.5, .5, .5), (.5, .5, .5)),\n",
    "    ])\n",
    "    img = transform(img)\n",
    "    return img\n",
    "noisy=load_image().to(device=device)\n"
   ]
  },
  {
   "cell_type": "markdown",
   "metadata": {},
   "source": [
    "# 训练"
   ]
  },
  {
   "cell_type": "code",
   "execution_count": 6,
   "metadata": {},
   "outputs": [],
   "source": [
    "from torch.optim import Adam\n",
    "from torch.nn import SmoothL1Loss\n",
    "\n",
    "model = Denoiser().to(device)\n",
    "optimizer = Adam(model.parameters() , lr=1e-3)\n",
    "p=0.3\n",
    "smooth_l1_loss=SmoothL1Loss(beta=0.01,reduction='sum')"
   ]
  },
  {
   "cell_type": "code",
   "execution_count": 7,
   "metadata": {},
   "outputs": [],
   "source": [
    "import utils\n",
    "def create_mask():\n",
    "    return utils.create_mask(width=512,height=512,probability=p,mode='bernoulli',device=device)"
   ]
  },
  {
   "cell_type": "code",
   "execution_count": 8,
   "metadata": {},
   "outputs": [
    {
     "data": {
      "application/vnd.jupyter.widget-view+json": {
       "model_id": "1733ea35f4c443e89a74f1cf1a6ec949",
       "version_major": 2,
       "version_minor": 0
      },
      "text/plain": [
       "  0%|          | 0/200000 [00:00<?, ?it/s]"
      ]
     },
     "metadata": {},
     "output_type": "display_data"
    },
    {
     "name": "stdout",
     "output_type": "stream",
     "text": [
      "tensor(0.5192, device='cuda:0')\n",
      "tensor(0.5148, device='cuda:0')\n",
      "tensor(0.4475, device='cuda:0')\n",
      "tensor(1.0333, device='cuda:0')\n",
      "tensor(0.4470, device='cuda:0')\n",
      "tensor(0.4103, device='cuda:0')\n",
      "tensor(0.4810, device='cuda:0')\n",
      "tensor(0.3809, device='cuda:0')\n",
      "tensor(0.4873, device='cuda:0')\n",
      "tensor(0.4361, device='cuda:0')\n",
      "tensor(0.4247, device='cuda:0')\n",
      "tensor(2.3756, device='cuda:0')\n",
      "tensor(0.4294, device='cuda:0')\n",
      "tensor(0.6068, device='cuda:0')\n",
      "tensor(0.7890, device='cuda:0')\n",
      "tensor(1.4488, device='cuda:0')\n",
      "tensor(0.7028, device='cuda:0')\n",
      "tensor(0.4259, device='cuda:0')\n",
      "tensor(0.4928, device='cuda:0')\n",
      "tensor(1.1319, device='cuda:0')\n",
      "tensor(3.1626, device='cuda:0')\n",
      "tensor(0.7069, device='cuda:0')\n",
      "tensor(1.0641, device='cuda:0')\n",
      "tensor(1.2858, device='cuda:0')\n",
      "tensor(0.5327, device='cuda:0')\n",
      "tensor(0.5520, device='cuda:0')\n",
      "tensor(1.1524, device='cuda:0')\n",
      "tensor(2.2862, device='cuda:0')\n",
      "tensor(0.4459, device='cuda:0')\n",
      "tensor(2.0673, device='cuda:0')\n",
      "tensor(0.3979, device='cuda:0')\n",
      "tensor(0.6618, device='cuda:0')\n",
      "tensor(0.5406, device='cuda:0')\n",
      "tensor(6.0486, device='cuda:0')\n",
      "tensor(0.8270, device='cuda:0')\n",
      "tensor(0.4263, device='cuda:0')\n",
      "tensor(1.8589, device='cuda:0')\n",
      "tensor(4.0232, device='cuda:0')\n",
      "tensor(1.0317, device='cuda:0')\n",
      "tensor(0.6500, device='cuda:0')\n",
      "tensor(1.2864, device='cuda:0')\n",
      "tensor(1.3459, device='cuda:0')\n",
      "tensor(2.5231, device='cuda:0')\n",
      "tensor(0.7101, device='cuda:0')\n",
      "tensor(3.4225, device='cuda:0')\n",
      "tensor(0.9810, device='cuda:0')\n",
      "tensor(0.4141, device='cuda:0')\n",
      "tensor(0.4567, device='cuda:0')\n",
      "tensor(1.8748, device='cuda:0')\n",
      "tensor(0.4725, device='cuda:0')\n",
      "tensor(0.9556, device='cuda:0')\n",
      "tensor(1.4220, device='cuda:0')\n",
      "tensor(0.6552, device='cuda:0')\n"
     ]
    }
   ],
   "source": [
    "# noise as clean：noisy-P'->noisy' 如果clean-P->noisy中的P近似于P'那么(noisy',noisy)训练可以近似复原噪声图片\n",
    "from torch import log, var, zeros_like,zeros,abs,std,mean,square,div\n",
    "\n",
    "from torch.nn.functional import relu,avg_pool2d,conv2d\n",
    "from torchvision.utils import save_image\n",
    "\n",
    "def train():\n",
    "    optimizer.zero_grad()\n",
    "    mask=create_mask()\n",
    "    mask_inv=1-mask\n",
    "    #只计算mask区域的loss\n",
    "    loss=smooth_l1_loss(model(noisy*mask)*mask_inv,noisy*mask_inv)/mask_inv.sum()\n",
    "    #clean=model(noisy)  \n",
    "    #梯度有多种使用方法：1.使noise梯度和noisy同再去除低频分量 2.使clean和noise梯度尽可能大\n",
    "    #loss2=smooth_l1_loss(image_gradient(noisy,device=device),image_gradient(noisy-clean,device=device))\n",
    "    loss.backward()\n",
    "    optimizer.step()\n",
    "    with torch.no_grad():\n",
    "        return loss.sum()\n",
    "\n",
    "def main(): \n",
    "    for epoch in tqdm(range(200000)):\n",
    "        print(train())\n",
    "        if (epoch+1)%1000==0:\n",
    "            result=model(noisy*create_mask())\n",
    "            for i in range(99):\n",
    "                result+=create_mask()\n",
    "            result/=100\n",
    "            save_image(tensor=result,fp=f'result/images/result-{(epoch+1)/1000}.png')#必须输入标准化了的图像\n",
    "main()"
   ]
  }
 ],
 "metadata": {
  "kernelspec": {
   "display_name": "base",
   "language": "python",
   "name": "python3"
  },
  "language_info": {
   "codemirror_mode": {
    "name": "ipython",
    "version": 3
   },
   "file_extension": ".py",
   "mimetype": "text/x-python",
   "name": "python",
   "nbconvert_exporter": "python",
   "pygments_lexer": "ipython3",
   "version": "3.8.10"
  },
  "vscode": {
   "interpreter": {
    "hash": "2f394aca7ca06fed1e6064aef884364492d7cdda3614a461e02e6407fc40ba69"
   }
  }
 },
 "nbformat": 4,
 "nbformat_minor": 4
}
