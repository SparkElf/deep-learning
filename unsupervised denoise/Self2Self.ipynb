{
 "cells": [
  {
   "cell_type": "markdown",
   "metadata": {},
   "source": [
    "# 环境"
   ]
  },
  {
   "cell_type": "code",
   "execution_count": 1,
   "metadata": {
    "slideshow": {
     "slide_type": "subslide"
    }
   },
   "outputs": [
    {
     "name": "stdout",
     "output_type": "stream",
     "text": [
      "1.11.0+cu113\n",
      "cuda\n",
      "/root/autodl-tmp/deep-learning/unsupervised denoise\n"
     ]
    }
   ],
   "source": [
    "import torch\n",
    "import torchmetrics\n",
    "import torchvision\n",
    "import os\n",
    "import gc\n",
    "import torch.nn as nn\n",
    "from torchvision import transforms\n",
    "\n",
    "print(torch.__version__)\n",
    "device='cuda' if torch.cuda.is_available() else 'cpu'\n",
    "print(device)\n",
    "if device=='cuda':\n",
    "    gc.collect()\n",
    "    torch.cuda.empty_cache()\n",
    "print(os.getcwd())\n"
   ]
  },
  {
   "cell_type": "markdown",
   "metadata": {},
   "source": [
    "# 模型"
   ]
  },
  {
   "cell_type": "code",
   "execution_count": 2,
   "metadata": {},
   "outputs": [],
   "source": [
    "class HourGlassCNNBlock(nn.Module):\n",
    "    def __init__(self,in_channels,out_channels,size=128,layernorm=False,batchnorm=False,activation=True):\n",
    "        super(HourGlassCNNBlock,self).__init__()\n",
    "        layers=[]\n",
    "        layers.append(nn.Conv2d(in_channels=in_channels, out_channels=out_channels, kernel_size=3, padding=1))\n",
    "        if layernorm:layers.append(nn.LayerNorm([out_channels,size,size]))\n",
    "        if batchnorm:layers.append(nn.BatchNorm2d(out_channels))\n",
    "        if activation:layers.append(nn.SiLU())\n",
    "        self.main=nn.Sequential(*layers)\n",
    "    def forward(self,x):\n",
    "        return self.main(x)#channel不同不能进行残差学习\n",
    "\n",
    "class HourGlassCNN(nn.Module):\n",
    "    def __init__(self,size=128,layernorm=False,batchnorm=False,max_channels=512,residual=True):\n",
    "        super(HourGlassCNN,self).__init__()\n",
    "        self.blocks=nn.ModuleList()\n",
    "        self.blocks.append( HourGlassCNNBlock(3,64,size,layernorm=False,batchnorm=False)),#0\n",
    "        channel=128\n",
    "        while channel<=max_channels:\n",
    "            self.blocks.append(HourGlassCNNBlock(channel//2,channel,size,layernorm,batchnorm))\n",
    "            channel*=2\n",
    "        channel//=2\n",
    "        while channel>64:\n",
    "            self.blocks.append(HourGlassCNNBlock(channel,channel//2,size,layernorm,batchnorm))\n",
    "            channel//=2\n",
    "        self.blocks.append(HourGlassCNNBlock(64,3,size,layernorm=False,batchnorm=False,activation=False))\n",
    "        self.residual=residual\n",
    "    def forward(self,x):\n",
    "        blocks_len=len(self.blocks)\n",
    "        y=[]\n",
    "        y.append(self.blocks[0](x))\n",
    "        for i in range(1,blocks_len//2):y.append(self.blocks[i](y[i-1]))\n",
    "        for i in range(blocks_len//2,blocks_len-1):y.append(self.blocks[i](y[i-1])+y[blocks_len-i-2]if self.residual else self.blocks[i](y[i-1]))\n",
    "        return self.blocks[-1](y[-1])\n",
    "\n",
    "class NoiseExtractor(nn.Module):\n",
    "    def __init__(self,size=128,layernorm=False,batchnorm=False):\n",
    "        super(NoiseExtractor,self).__init__()\n",
    "        \"\"\"\n",
    "        main->dependent noise\n",
    "        main->independent noise\n",
    "        \"\"\"\n",
    "        self.main=HourGlassCNN(size,layernorm,batchnorm)\n",
    "        self.dependent=HourGlassCNN(size,layernorm,batchnorm,256)\n",
    "        self.independent=HourGlassCNN(size,layernorm,batchnorm,256)\n",
    "    def forward(self,x):\n",
    "       main=self.main(x)+x\n",
    "       return self.dependent(main)+main,self.independent(main)+main\n",
    "\n",
    "class Denoiser(nn.Module):\n",
    "    def __init__(self,size=128,layernorm=False,batchnorm=False,max_channels=512):\n",
    "        super(Denoiser,self).__init__()\n",
    "        self.main=HourGlassCNN(size,layernorm,batchnorm,max_channels)\n",
    "    def forward(self,x):\n",
    "        return self.main(x)+x\n",
    "\n",
    "class CVF_SID(nn.Module):\n",
    "    def __init__(self,size=128,layernorm=False,batchnorm=False) -> None:\n",
    "        super(CVF_SID,self).__init__()\n",
    "        self.denoiser=Denoiser(size,layernorm,batchnorm)\n",
    "        self.noise_extrator=NoiseExtractor(size,layernorm,batchnorm)\n",
    "    def forward(self,x):\n",
    "        clean=self.denoiser(x)\n",
    "        dependent,independent=self.noise_extrator(x-clean)\n",
    "        return clean,dependent,independent"
   ]
  },
  {
   "cell_type": "markdown",
   "metadata": {},
   "source": [
    "# 分析"
   ]
  },
  {
   "cell_type": "code",
   "execution_count": 3,
   "metadata": {},
   "outputs": [],
   "source": [
    "import torch.utils.tensorboard\n",
    "from torch.utils.tensorboard.writer import SummaryWriter\n",
    "from tqdm.notebook import tqdm\n",
    "from torchvision.utils import make_grid\n",
    "from matplotlib import pyplot as plt\n",
    "from torchmetrics import PeakSignalNoiseRatio\n",
    "from torchmetrics import StructuralSimilarityIndexMeasure"
   ]
  },
  {
   "cell_type": "code",
   "execution_count": 4,
   "metadata": {},
   "outputs": [],
   "source": [
    "def convert_to_rgb255(image:torch.Tensor):\n",
    "    image = (image + 1) / 2\n",
    "    image[image < 0] = 0\n",
    "    image[image > 1] = 1\n",
    "    return image\n",
    "def show_image(image:torch.Tensor):\n",
    "    image=convert_to_rgb255(image)\n",
    "    plt.imshow(transforms.ToPILImage()(image))\n",
    "    plt.show()\n",
    "\n",
    "writer=SummaryWriter()\n",
    "psnr=PeakSignalNoiseRatio().to(device=device)\n",
    "ssim=StructuralSimilarityIndexMeasure().to(device=device)#负数对应颜色反转\n"
   ]
  },
  {
   "cell_type": "markdown",
   "metadata": {},
   "source": [
    "# 数据"
   ]
  },
  {
   "cell_type": "code",
   "execution_count": 5,
   "metadata": {},
   "outputs": [],
   "source": [
    "img_size=128\n",
    "batch_size=8"
   ]
  },
  {
   "cell_type": "code",
   "execution_count": 6,
   "metadata": {},
   "outputs": [],
   "source": [
    "\n",
    "from torch.utils.data import Dataset \n",
    "from torch.utils.data import DataLoader\n",
    "\n",
    "from PIL import Image\n",
    "# https://discuss.pytorch.org/t/torchvision-transfors-how-to-perform-identical-transform-on-both-image-and-target/10606/7\n",
    "\n",
    "class BSDSPairsDataSet(Dataset):\n",
    "    def __init__(self,imgs_dir=None,img_size=128,sigma=60) -> None:\n",
    "        super(BSDSPairsDataSet,self).__init__()\n",
    "        if not imgs_dir:imgs_dir=f'./data/BSDS300/{img_size}x{img_size}/base/train'\n",
    "        self.img_size=img_size\n",
    "        self.files=os.listdir(imgs_dir)\n",
    "        self.sigma=sigma\n",
    "        self.imgs_dir=imgs_dir\n",
    "    def __getitem__(self,idx:int):\n",
    "        img_path = os.path.join(self.imgs_dir, self.files[idx])\n",
    "        clean = Image.open(img_path).convert('RGB')#比torchvision的好\n",
    "        transform = transforms.Compose([\n",
    "            # hwc->chw 并 归一化到[0,1]\n",
    "            transforms.ToTensor(),\n",
    "            # [−1,1]\n",
    "            transforms.Normalize((.5, .5, .5), (.5, .5, .5)),\n",
    "            ])\n",
    "        clean = transform(clean)\n",
    "        noisy = clean + self.sigma * torch.randn(clean.shape)/255\n",
    "        return noisy, clean\n",
    "    def __len__(self):\n",
    "        return len(self.files)\n",
    "class BSDSExtendDataSet(Dataset):\n",
    "    def __init__(self,imgs_dir=None,img_size=128,sigma=60,sigma_plus=60) -> None:\n",
    "        super(BSDSExtendDataSet,self).__init__()\n",
    "        if not imgs_dir:imgs_dir=f'./data/BSDS300/{img_size}x{img_size}/base/train'\n",
    "        self.img_size=img_size\n",
    "        self.files=os.listdir(imgs_dir)\n",
    "        self.sigma=sigma\n",
    "        self.sigma_plus=sigma_plus\n",
    "        self.imgs_dir=imgs_dir\n",
    "    def __getitem__(self,idx:int):\n",
    "        img_path = os.path.join(self.imgs_dir, self.files[idx])\n",
    "        clean = Image.open(img_path).convert('RGB')#比torchvision的好\n",
    "        transform = transforms.Compose([\n",
    "            # hwc->chw 并 归一化到[0,1]\n",
    "            transforms.ToTensor(),\n",
    "            # [−1,1]\n",
    "            transforms.Normalize((.5, .5, .5), (.5, .5, .5)),\n",
    "            ])\n",
    "        clean=transform(clean)\n",
    "        noisy1 = clean+ self.sigma * torch.randn(clean.shape)/255\n",
    "        noisy2 = noisy1+self.sigma_plus* torch.randn(clean.shape)/255\n",
    "        return noisy2,noisy1,clean\n",
    "    def __len__(self):\n",
    "        return len(self.files)\n",
    "\n",
    "train_set=BSDSPairsDataSet()\n",
    "train_loader=DataLoader(train_set,batch_size=batch_size,shuffle=True)\n"
   ]
  },
  {
   "cell_type": "markdown",
   "metadata": {},
   "source": [
    "# 训练"
   ]
  },
  {
   "cell_type": "code",
   "execution_count": 7,
   "metadata": {},
   "outputs": [],
   "source": [
    "import itertools\n",
    "from torch.optim import Adam\n",
    "\n",
    "model = Denoiser(max_channels=1024).to(device)\n",
    "optimizer = Adam(model.parameters() , lr=1e-3)"
   ]
  },
  {
   "cell_type": "code",
   "execution_count": 8,
   "metadata": {},
   "outputs": [
    {
     "data": {
      "application/vnd.jupyter.widget-view+json": {
       "model_id": "65c5b20cffff418caf735cd30511c5f5",
       "version_major": 2,
       "version_minor": 0
      },
      "text/plain": [
       "  0%|          | 0/5000 [00:00<?, ?it/s]"
      ]
     },
     "metadata": {},
     "output_type": "display_data"
    }
   ],
   "source": [
    "# noise as clean：noisy-P'->noisy' 如果clean-P->noisy中的P近似于P'那么(noisy',noisy)训练可以近似复原噪声图片\n",
    "from torch import log, var, zeros_like,zeros,abs,std,mean,square,div\n",
    "from torch.nn import SmoothL1Loss\n",
    "from torch.nn.functional import relu,avg_pool2d\n",
    "from utils import create_mask\n",
    "smooth_l1_loss=SmoothL1Loss(beta=0.001)\n",
    "\n",
    "def train(noisy):\n",
    "    #每组输入采样十次\n",
    "    for i in range(10):\n",
    "        optimizer.zero_grad()\n",
    "        mask=create_mask(probability=0.5,mode='bernoulli')\n",
    "        input=noisy*mask\n",
    "        target=noisy*(1-mask)\n",
    "        #loss=smooth_l1_loss(fake_noisy,noisy2)+smooth_l1_loss(model(fake_noisy),clean)+.1*(smooth_l1_loss(model(clean),clean)+abs(ssim(noisy1-fake_noisy,noisy1))+abs(ssim(noisy2-clean,clean)))#第二项重要\n",
    "        loss=smooth_l1_loss(model(input),target)\n",
    "        loss.backward()\n",
    "        optimizer.step()\n",
    "    with torch.no_grad():\n",
    "        total_loss=loss.sum()\n",
    "    return total_loss\n",
    "def draw(mean_loss_noisy,mean_loss_clean,epoch):\n",
    "    noisy,clean=next(iter(train_loader))\n",
    "    noisy=noisy.to(device=device)\n",
    "    clean=clean.to(device=device)\n",
    "    outs=model(noisy)\n",
    "    writer.add_scalar('noisy_loss',mean_loss_noisy,epoch)\n",
    "    writer.add_scalar('clean_loss',mean_loss_clean,epoch)\n",
    "    writer.add_scalar('psnr',psnr(outs,clean),epoch)\n",
    "    writer.add_image('noisy',make_grid(convert_to_rgb255(noisy)),epoch)\n",
    "    writer.add_image('clean',make_grid(convert_to_rgb255(clean)),epoch)\n",
    "    writer.add_image('out',make_grid(convert_to_rgb255(outs)),epoch)\n",
    "    writer.add_image('noise',make_grid(convert_to_rgb255(noisy-clean)),epoch)\n",
    "    writer.add_image('error',make_grid(convert_to_rgb255(outs-clean)),epoch)\n",
    "\n",
    "def main(): \n",
    "    for epoch in tqdm(range(5000)):\n",
    "        total_loss_noisy,total_loss_clean=0,0\n",
    "        for noisy,clean in train_loader:\n",
    "            noisy=noisy.to(device=device)\n",
    "            clean=clean.to(device=device)\n",
    "            total_loss_noisy+=train(noisy)\n",
    "            with torch.no_grad():\n",
    "                total_loss_clean+=smooth_l1_loss(model(noisy),clean).sum()\n",
    "        with torch.no_grad():\n",
    "            draw(total_loss_noisy,total_loss_clean,epoch)\n",
    "main()"
   ]
  }
 ],
 "metadata": {
  "kernelspec": {
   "display_name": "Python 3",
   "language": "python",
   "name": "python3"
  },
  "language_info": {
   "codemirror_mode": {
    "name": "ipython",
    "version": 3
   },
   "file_extension": ".py",
   "mimetype": "text/x-python",
   "name": "python",
   "nbconvert_exporter": "python",
   "pygments_lexer": "ipython3",
   "version": "3.10.8 | packaged by conda-forge | (main, Nov 24 2022, 14:07:00) [MSC v.1916 64 bit (AMD64)]"
  },
  "vscode": {
   "interpreter": {
    "hash": "d5d6a002194865cab5a4bec71c277f27d10bc8e4f07be28304c019a3736a4e23"
   }
  }
 },
 "nbformat": 4,
 "nbformat_minor": 4
}
