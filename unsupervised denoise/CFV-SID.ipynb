{
 "cells": [
  {
   "cell_type": "markdown",
   "metadata": {},
   "source": [
    "# 环境"
   ]
  },
  {
   "cell_type": "code",
   "execution_count": 1,
   "metadata": {
    "slideshow": {
     "slide_type": "subslide"
    }
   },
   "outputs": [
    {
     "name": "stdout",
     "output_type": "stream",
     "text": [
      "1.11.0+cu113\n",
      "cuda\n",
      "/root/autodl-tmp/deep-learning/unsupervised denoise\n"
     ]
    }
   ],
   "source": [
    "import torch\n",
    "import torchmetrics\n",
    "import torchvision\n",
    "import os\n",
    "import gc\n",
    "import torch.nn as nn\n",
    "from torchvision import transforms\n",
    "print(torch.__version__)\n",
    "device='cuda' if torch.cuda.is_available() else 'cpu'\n",
    "print(device)\n",
    "if device=='cuda':\n",
    "    gc.collect()\n",
    "    torch.cuda.empty_cache()\n",
    "print(os.getcwd())\n"
   ]
  },
  {
   "cell_type": "markdown",
   "metadata": {},
   "source": [
    "# 模型"
   ]
  },
  {
   "cell_type": "code",
   "execution_count": 2,
   "metadata": {},
   "outputs": [],
   "source": [
    "class HourGlassCNNBlock(nn.Module):\n",
    "    def __init__(self,in_channels,out_channels,size=128,layernorm=False,batchnorm=False,activation=True):\n",
    "        super(HourGlassCNNBlock,self).__init__()\n",
    "        layers=[]\n",
    "        layers.append(nn.Conv2d(in_channels=in_channels, out_channels=out_channels, kernel_size=3, padding=1))\n",
    "        if layernorm:layers.append(nn.LayerNorm([out_channels,size,size]))\n",
    "        if batchnorm:layers.append(nn.BatchNorm2d(out_channels))\n",
    "        if activation:layers.append(nn.SiLU())\n",
    "        self.main=nn.Sequential(*layers)\n",
    "    def forward(self,x):\n",
    "        return self.main(x)#channel不同不能进行残差学习\n",
    "\n",
    "class HourGlassCNN(nn.Module):\n",
    "    def __init__(self,size=128,layernorm=False,batchnorm=False,max_channels=512,residual=True):\n",
    "        super(HourGlassCNN,self).__init__()\n",
    "        self.blocks=nn.ModuleList()\n",
    "        self.blocks.append( HourGlassCNNBlock(3,64,size,layernorm=False,batchnorm=False)),#0\n",
    "        channel=128\n",
    "        while channel<=max_channels:\n",
    "            self.blocks.append(HourGlassCNNBlock(channel//2,channel,size,layernorm,batchnorm))\n",
    "            channel*=2\n",
    "        channel//=2\n",
    "        while channel>64:\n",
    "            self.blocks.append(HourGlassCNNBlock(channel,channel//2,size,layernorm,batchnorm))\n",
    "            channel//=2\n",
    "        self.blocks.append(HourGlassCNNBlock(64,3,size,layernorm=False,batchnorm=False,activation=False))\n",
    "        self.residual=residual\n",
    "    def forward(self,x):\n",
    "        blocks_len=len(self.blocks)\n",
    "        y=[]\n",
    "        y.append(self.blocks[0](x))\n",
    "        for i in range(1,blocks_len//2):y.append(self.blocks[i](y[i-1]))\n",
    "        for i in range(blocks_len//2,blocks_len-1):y.append(self.blocks[i](y[i-1])+y[blocks_len-i-2]if self.residual else self.blocks[i](y[i-1]))\n",
    "        return self.blocks[blocks_len-1](y[-1])\n",
    "\n",
    "class NoiseExtractor(nn.Module):\n",
    "    def __init__(self,size=128,layernorm=False,batchnorm=False):\n",
    "        super(NoiseExtractor,self).__init__()\n",
    "        \"\"\"\n",
    "        main->dependent noise\n",
    "        main->independent noise\n",
    "        \"\"\"\n",
    "        self.main=HourGlassCNN(size,layernorm,batchnorm)\n",
    "        self.dependent=HourGlassCNN(size,layernorm,batchnorm,256)\n",
    "        self.independent=HourGlassCNN(size,layernorm,batchnorm,256)\n",
    "    def forward(self,x):\n",
    "       main=self.main(x)+x\n",
    "       return self.dependent(main)+main,self.independent(main)+main\n",
    "\n",
    "class Denoiser(nn.Module):\n",
    "    def __init__(self,size=128,layernorm=False,batchnorm=False):\n",
    "        super(Denoiser,self).__init__()\n",
    "        self.main=HourGlassCNN(size,layernorm,batchnorm)\n",
    "    def forward(self,x):\n",
    "        return self.main(x)+x\n",
    "\n",
    "class CVF_SID(nn.Module):\n",
    "    def __init__(self,size=128,layernorm=False,batchnorm=False) -> None:\n",
    "        super(CVF_SID,self).__init__()\n",
    "        self.denoiser=Denoiser(size,layernorm,batchnorm)\n",
    "        self.noise_extrator=NoiseExtractor(size,layernorm,batchnorm)\n",
    "    def forward(self,x):\n",
    "        clean=self.denoiser(x)\n",
    "        dependent,independent=self.noise_extrator(x-clean)\n",
    "        return clean,dependent,independent"
   ]
  },
  {
   "cell_type": "markdown",
   "metadata": {},
   "source": [
    "# 分析"
   ]
  },
  {
   "cell_type": "code",
   "execution_count": 3,
   "metadata": {},
   "outputs": [],
   "source": [
    "import torch.utils.tensorboard\n",
    "from torch.utils.tensorboard.writer import SummaryWriter\n",
    "from tqdm.notebook import tqdm\n",
    "from torchvision.utils import make_grid\n",
    "from matplotlib import pyplot as plt\n",
    "from torchmetrics import PeakSignalNoiseRatio"
   ]
  },
  {
   "cell_type": "code",
   "execution_count": 4,
   "metadata": {},
   "outputs": [],
   "source": [
    "def convert_to_rgb255(image:torch.Tensor):\n",
    "    image = (image + 1) / 2\n",
    "    image[image < 0] = 0\n",
    "    image[image > 1] = 1\n",
    "    return image\n",
    "def show_image(image:torch.Tensor):\n",
    "    image=convert_to_rgb255(image)\n",
    "    plt.imshow(transforms.ToPILImage()(image))\n",
    "    plt.show()\n",
    "\n",
    "writer=SummaryWriter()\n",
    "psnr=PeakSignalNoiseRatio().to(device=device)"
   ]
  },
  {
   "cell_type": "markdown",
   "metadata": {},
   "source": [
    "# 数据"
   ]
  },
  {
   "cell_type": "code",
   "execution_count": 5,
   "metadata": {},
   "outputs": [],
   "source": [
    "img_size=128\n",
    "batch_size=8"
   ]
  },
  {
   "cell_type": "code",
   "execution_count": 6,
   "metadata": {},
   "outputs": [
    {
     "ename": "TypeError",
     "evalue": "super(type, obj): obj must be an instance or subtype of type",
     "output_type": "error",
     "traceback": [
      "\u001b[0;31m---------------------------------------------------------------------------\u001b[0m",
      "\u001b[0;31mTypeError\u001b[0m                                 Traceback (most recent call last)",
      "\u001b[1;32m/root/autodl-tmp/deep-learning/unsupervised denoise/CFV-SID.ipynb Cell 10\u001b[0m in \u001b[0;36m<cell line: 53>\u001b[0;34m()\u001b[0m\n\u001b[1;32m     <a href='vscode-notebook-cell://ssh-remote%2Bregion-8.seetacloud.com/root/autodl-tmp/deep-learning/unsupervised%20denoise/CFV-SID.ipynb#X12sdnNjb2RlLXJlbW90ZQ%3D%3D?line=49'>50</a>\u001b[0m     \u001b[39mdef\u001b[39;00m \u001b[39m__len__\u001b[39m(\u001b[39mself\u001b[39m):\n\u001b[1;32m     <a href='vscode-notebook-cell://ssh-remote%2Bregion-8.seetacloud.com/root/autodl-tmp/deep-learning/unsupervised%20denoise/CFV-SID.ipynb#X12sdnNjb2RlLXJlbW90ZQ%3D%3D?line=50'>51</a>\u001b[0m         \u001b[39mreturn\u001b[39;00m \u001b[39mlen\u001b[39m(\u001b[39mself\u001b[39m\u001b[39m.\u001b[39mfiles)\n\u001b[0;32m---> <a href='vscode-notebook-cell://ssh-remote%2Bregion-8.seetacloud.com/root/autodl-tmp/deep-learning/unsupervised%20denoise/CFV-SID.ipynb#X12sdnNjb2RlLXJlbW90ZQ%3D%3D?line=52'>53</a>\u001b[0m pre_train_set\u001b[39m=\u001b[39mBSDSNoisyPairsDataSet()\n\u001b[1;32m     <a href='vscode-notebook-cell://ssh-remote%2Bregion-8.seetacloud.com/root/autodl-tmp/deep-learning/unsupervised%20denoise/CFV-SID.ipynb#X12sdnNjb2RlLXJlbW90ZQ%3D%3D?line=53'>54</a>\u001b[0m pre_train_loader\u001b[39m=\u001b[39mDataLoader(pre_train_set,batch_size\u001b[39m=\u001b[39mbatch_size,shuffle\u001b[39m=\u001b[39m\u001b[39mTrue\u001b[39;00m)\n\u001b[1;32m     <a href='vscode-notebook-cell://ssh-remote%2Bregion-8.seetacloud.com/root/autodl-tmp/deep-learning/unsupervised%20denoise/CFV-SID.ipynb#X12sdnNjb2RlLXJlbW90ZQ%3D%3D?line=55'>56</a>\u001b[0m train_set\u001b[39m=\u001b[39mBSDSPairsDataSet()\n",
      "\u001b[1;32m/root/autodl-tmp/deep-learning/unsupervised denoise/CFV-SID.ipynb Cell 10\u001b[0m in \u001b[0;36mBSDSNoisyPairsDataSet.__init__\u001b[0;34m(self, imgs_dir, img_size, sigma, sigma_plus)\u001b[0m\n\u001b[1;32m     <a href='vscode-notebook-cell://ssh-remote%2Bregion-8.seetacloud.com/root/autodl-tmp/deep-learning/unsupervised%20denoise/CFV-SID.ipynb#X12sdnNjb2RlLXJlbW90ZQ%3D%3D?line=29'>30</a>\u001b[0m \u001b[39mdef\u001b[39;00m \u001b[39m__init__\u001b[39m(\u001b[39mself\u001b[39m,imgs_dir\u001b[39m=\u001b[39m\u001b[39mNone\u001b[39;00m,img_size\u001b[39m=\u001b[39m\u001b[39m128\u001b[39m,sigma\u001b[39m=\u001b[39m\u001b[39m60\u001b[39m,sigma_plus\u001b[39m=\u001b[39m\u001b[39m30\u001b[39m) \u001b[39m-\u001b[39m\u001b[39m>\u001b[39m \u001b[39mNone\u001b[39;00m:\n\u001b[0;32m---> <a href='vscode-notebook-cell://ssh-remote%2Bregion-8.seetacloud.com/root/autodl-tmp/deep-learning/unsupervised%20denoise/CFV-SID.ipynb#X12sdnNjb2RlLXJlbW90ZQ%3D%3D?line=30'>31</a>\u001b[0m     \u001b[39msuper\u001b[39;49m(BSDSPairsDataSet,\u001b[39mself\u001b[39;49m)\u001b[39m.\u001b[39m\u001b[39m__init__\u001b[39m()\n\u001b[1;32m     <a href='vscode-notebook-cell://ssh-remote%2Bregion-8.seetacloud.com/root/autodl-tmp/deep-learning/unsupervised%20denoise/CFV-SID.ipynb#X12sdnNjb2RlLXJlbW90ZQ%3D%3D?line=31'>32</a>\u001b[0m     \u001b[39mif\u001b[39;00m \u001b[39mnot\u001b[39;00m imgs_dir:imgs_dir\u001b[39m=\u001b[39m\u001b[39mf\u001b[39m\u001b[39m'\u001b[39m\u001b[39m./data/BSDS300/\u001b[39m\u001b[39m{\u001b[39;00mimg_size\u001b[39m}\u001b[39;00m\u001b[39mx\u001b[39m\u001b[39m{\u001b[39;00mimg_size\u001b[39m}\u001b[39;00m\u001b[39m/base/train\u001b[39m\u001b[39m'\u001b[39m\n\u001b[1;32m     <a href='vscode-notebook-cell://ssh-remote%2Bregion-8.seetacloud.com/root/autodl-tmp/deep-learning/unsupervised%20denoise/CFV-SID.ipynb#X12sdnNjb2RlLXJlbW90ZQ%3D%3D?line=32'>33</a>\u001b[0m     \u001b[39mself\u001b[39m\u001b[39m.\u001b[39mimg_size\u001b[39m=\u001b[39mimg_size\n",
      "\u001b[0;31mTypeError\u001b[0m: super(type, obj): obj must be an instance or subtype of type"
     ]
    }
   ],
   "source": [
    "\n",
    "from torch.utils.data import Dataset \n",
    "from torch.utils.data import DataLoader\n",
    "\n",
    "from PIL import Image\n",
    "# https://discuss.pytorch.org/t/torchvision-transfors-how-to-perform-identical-transform-on-both-image-and-target/10606/7\n",
    "\n",
    "class BSDSPairsDataSet(Dataset):\n",
    "    def __init__(self,imgs_dir=None,img_size=128,sigma=60) -> None:\n",
    "        super(BSDSPairsDataSet,self).__init__()\n",
    "        if not imgs_dir:imgs_dir=f'./data/BSDS300/{img_size}x{img_size}/base/train'\n",
    "        self.img_size=img_size\n",
    "        self.files=os.listdir(imgs_dir)\n",
    "        self.sigma=sigma\n",
    "        self.imgs_dir=imgs_dir\n",
    "    def __getitem__(self,idx:int):\n",
    "        img_path = os.path.join(self.imgs_dir, self.files[idx])\n",
    "        clean = Image.open(img_path).convert('RGB')#比torchvision的好\n",
    "        transform = transforms.Compose([\n",
    "            # hwc->chw 并 归一化到[0,1]\n",
    "            transforms.ToTensor(),\n",
    "            # [−1,1]\n",
    "            transforms.Normalize((.5, .5, .5), (.5, .5, .5)),\n",
    "            ])\n",
    "        clean = transform(clean)\n",
    "        noisy = clean + self.sigma * torch.randn(clean.shape)/255\n",
    "        return noisy, clean\n",
    "    def __len__(self):\n",
    "        return len(self.files)\n",
    "class BSDSNoisyPairsDataSet(Dataset):\n",
    "    def __init__(self,imgs_dir=None,img_size=128,sigma=60,sigma_plus=30) -> None:\n",
    "        super(BSDSPairsDataSet,self).__init__()\n",
    "        if not imgs_dir:imgs_dir=f'./data/BSDS300/{img_size}x{img_size}/base/train'\n",
    "        self.img_size=img_size\n",
    "        self.files=os.listdir(imgs_dir)\n",
    "        self.sigma=sigma\n",
    "        self.sigma_plus=sigma_plus\n",
    "        self.imgs_dir=imgs_dir\n",
    "    def __getitem__(self,idx:int):\n",
    "        img_path = os.path.join(self.imgs_dir, self.files[idx])\n",
    "        clean = Image.open(img_path).convert('RGB')#比torchvision的好\n",
    "        transform = transforms.Compose([\n",
    "            # hwc->chw 并 归一化到[0,1]\n",
    "            transforms.ToTensor(),\n",
    "            # [−1,1]\n",
    "            transforms.Normalize((.5, .5, .5), (.5, .5, .5)),\n",
    "            ])\n",
    "        noisy1 = transform(clean) + self.sigma * torch.randn(clean.shape)/255\n",
    "        noisy2 = noisy2+self.sigma_plus* torch.randn(clean.shape)/255\n",
    "        return noisy2,noisy1\n",
    "    def __len__(self):\n",
    "        return len(self.files)\n",
    "\n",
    "pre_train_set=BSDSNoisyPairsDataSet()\n",
    "pre_train_loader=DataLoader(pre_train_set,batch_size=batch_size,shuffle=True)\n",
    "\n",
    "train_set=BSDSPairsDataSet()\n",
    "train_loader=DataLoader(train_set,batch_size=batch_size,shuffle=True)\n"
   ]
  },
  {
   "cell_type": "markdown",
   "metadata": {},
   "source": [
    "# 训练"
   ]
  },
  {
   "cell_type": "code",
   "execution_count": null,
   "metadata": {},
   "outputs": [],
   "source": [
    "import itertools\n",
    "from torch.optim import Adam\n",
    "\n",
    "model = CVF_SID().to(device)\n",
    "optimizer = Adam(model.parameters() , lr=1e-3,weight_decay=0.1)"
   ]
  },
  {
   "cell_type": "code",
   "execution_count": null,
   "metadata": {},
   "outputs": [
    {
     "data": {
      "application/vnd.jupyter.widget-view+json": {
       "model_id": "784157bbb7bf446f9a7ffa6f37dc66b0",
       "version_major": 2,
       "version_minor": 0
      },
      "text/plain": [
       "  0%|          | 0/5000 [00:00<?, ?it/s]"
      ]
     },
     "metadata": {},
     "output_type": "display_data"
    },
    {
     "ename": "KeyboardInterrupt",
     "evalue": "",
     "output_type": "error",
     "traceback": [
      "\u001b[0;31m---------------------------------------------------------------------------\u001b[0m",
      "\u001b[0;31mKeyboardInterrupt\u001b[0m                         Traceback (most recent call last)",
      "\u001b[1;32m/root/autodl-tmp/deep-learning/unsupervised denoise/CFV-SID.ipynb Cell 13\u001b[0m in \u001b[0;36m<cell line: 71>\u001b[0;34m()\u001b[0m\n\u001b[1;32m     <a href='vscode-notebook-cell://ssh-remote%2Bregion-8.seetacloud.com/root/autodl-tmp/deep-learning/unsupervised%20denoise/CFV-SID.ipynb#X15sdnNjb2RlLXJlbW90ZQ%3D%3D?line=68'>69</a>\u001b[0m         \u001b[39mwith\u001b[39;00m torch\u001b[39m.\u001b[39mno_grad():\n\u001b[1;32m     <a href='vscode-notebook-cell://ssh-remote%2Bregion-8.seetacloud.com/root/autodl-tmp/deep-learning/unsupervised%20denoise/CFV-SID.ipynb#X15sdnNjb2RlLXJlbW90ZQ%3D%3D?line=69'>70</a>\u001b[0m             draw(total_loss_noisy,total_loss_clean,epoch)\n\u001b[0;32m---> <a href='vscode-notebook-cell://ssh-remote%2Bregion-8.seetacloud.com/root/autodl-tmp/deep-learning/unsupervised%20denoise/CFV-SID.ipynb#X15sdnNjb2RlLXJlbW90ZQ%3D%3D?line=70'>71</a>\u001b[0m main()\n",
      "\u001b[1;32m/root/autodl-tmp/deep-learning/unsupervised denoise/CFV-SID.ipynb Cell 13\u001b[0m in \u001b[0;36mmain\u001b[0;34m()\u001b[0m\n\u001b[1;32m     <a href='vscode-notebook-cell://ssh-remote%2Bregion-8.seetacloud.com/root/autodl-tmp/deep-learning/unsupervised%20denoise/CFV-SID.ipynb#X15sdnNjb2RlLXJlbW90ZQ%3D%3D?line=61'>62</a>\u001b[0m \u001b[39mfor\u001b[39;00m noisys,cleans \u001b[39min\u001b[39;00m train_loader:\n\u001b[1;32m     <a href='vscode-notebook-cell://ssh-remote%2Bregion-8.seetacloud.com/root/autodl-tmp/deep-learning/unsupervised%20denoise/CFV-SID.ipynb#X15sdnNjb2RlLXJlbW90ZQ%3D%3D?line=62'>63</a>\u001b[0m     \u001b[39mif\u001b[39;00m noisys\u001b[39m.\u001b[39mshape[\u001b[39m0\u001b[39m]\u001b[39m!=\u001b[39mbatch_size:\u001b[39mbreak\u001b[39;00m\n\u001b[0;32m---> <a href='vscode-notebook-cell://ssh-remote%2Bregion-8.seetacloud.com/root/autodl-tmp/deep-learning/unsupervised%20denoise/CFV-SID.ipynb#X15sdnNjb2RlLXJlbW90ZQ%3D%3D?line=63'>64</a>\u001b[0m     noisys\u001b[39m=\u001b[39mnoisys\u001b[39m.\u001b[39;49mto(device\u001b[39m=\u001b[39;49mdevice)\n\u001b[1;32m     <a href='vscode-notebook-cell://ssh-remote%2Bregion-8.seetacloud.com/root/autodl-tmp/deep-learning/unsupervised%20denoise/CFV-SID.ipynb#X15sdnNjb2RlLXJlbW90ZQ%3D%3D?line=64'>65</a>\u001b[0m     cleans\u001b[39m=\u001b[39mcleans\u001b[39m.\u001b[39mto(device\u001b[39m=\u001b[39mdevice)\n\u001b[1;32m     <a href='vscode-notebook-cell://ssh-remote%2Bregion-8.seetacloud.com/root/autodl-tmp/deep-learning/unsupervised%20denoise/CFV-SID.ipynb#X15sdnNjb2RlLXJlbW90ZQ%3D%3D?line=65'>66</a>\u001b[0m     total_loss_noisy\u001b[39m+\u001b[39m\u001b[39m=\u001b[39mtrain(noisys)\n",
      "\u001b[0;31mKeyboardInterrupt\u001b[0m: "
     ]
    }
   ],
   "source": [
    "# noise as clean：noisy-P'->noisy' 如果clean-P->noisy中的P近似于P'那么(noisy',noisy)训练可以近似复原噪声图片\n",
    "from torch import log, var, zeros_like,zeros,abs,std,mean,square\n",
    "from torch.nn import SmoothL1Loss\n",
    "from torch.nn.functional import relu,avg_pool2d\n",
    "smooth_l1_loss=SmoothL1Loss(beta=0.1)\n",
    "\n",
    "def train(noisy):\n",
    "    optimizer.zero_grad()\n",
    "    losses=[]\n",
    "    clean,dependent,independent=model(noisy)\n",
    "    #consistency\n",
    "    losses.append(smooth_l1_loss(clean+clean*dependent+independent,noisy))\n",
    "    #identity\n",
    "    clean1,dependent1,independent1=model(clean)\n",
    "    losses.append(smooth_l1_loss(clean1,clean))\n",
    "    clean2,dependent2,independent2=model(clean+clean*dependent)\n",
    "    losses.append(smooth_l1_loss(dependent2,dependent))\n",
    "    clean3,dependent3,independent3=model(independent)\n",
    "    losses.append(smooth_l1_loss(independent3,independent))\n",
    "    losses.append(smooth_l1_loss(clean2,clean))\n",
    "    #zeros\n",
    "    losses.append(smooth_l1_loss(clean3,zeros_like(clean3)))\n",
    "    losses.append(smooth_l1_loss(dependent1,zeros_like(dependent1)))\n",
    "    losses.append(smooth_l1_loss(independent1,zeros_like(independent1)))\n",
    "    losses.append(smooth_l1_loss(independent2,zeros_like(independent2)))\n",
    "\n",
    "    loss=losses[0]\n",
    "    for i in range(1,len(losses)):loss+=losses[i]\n",
    "    optimizer.step()\n",
    "    total_loss=0.0\n",
    "    with torch.no_grad():\n",
    "        total_loss=loss.sum()\n",
    "    return total_loss\n",
    "def draw(mean_loss_noisy,mean_loss_clean,epoch):\n",
    "    noisys,cleans=next(iter(train_loader))\n",
    "    noisys=noisys.to(device=device)\n",
    "    cleans=cleans.to(device=device)\n",
    "    outs=model(noisys)\n",
    "    writer.add_scalar('noisy_loss',mean_loss_noisy,epoch)\n",
    "    writer.add_scalar('clean_loss',mean_loss_clean,epoch)\n",
    "    writer.add_scalar('psnr',psnr(outs[0],cleans),epoch)\n",
    "    writer.add_image('noisy',make_grid(convert_to_rgb255(noisys)),epoch)\n",
    "    writer.add_image('clean',make_grid(convert_to_rgb255(cleans)),epoch)\n",
    "    writer.add_image('out',make_grid(convert_to_rgb255(outs[0])),epoch)\n",
    "    writer.add_image('dependent',make_grid(convert_to_rgb255(outs[1])),epoch)\n",
    "    writer.add_image('independent',make_grid(convert_to_rgb255(outs[2])),epoch)\n",
    "\n",
    "def main(): \n",
    "    for epoch in tqdm(range(5000)):\n",
    "        total_loss_noisy,total_loss_clean=0,0\n",
    "        for noisys,cleans in train_loader:\n",
    "            noisys=noisys.to(device=device)\n",
    "            cleans=cleans.to(device=device)\n",
    "            total_loss_noisy+=train(noisys)\n",
    "            with torch.no_grad():\n",
    "                total_loss_clean+=smooth_l1_loss(model(noisys)[0],cleans).sum()\n",
    "        with torch.no_grad():\n",
    "            draw(total_loss_noisy,total_loss_clean,epoch)\n",
    "main()"
   ]
  }
 ],
 "metadata": {
  "kernelspec": {
   "display_name": "base",
   "language": "python",
   "name": "python3"
  },
  "language_info": {
   "codemirror_mode": {
    "name": "ipython",
    "version": 3
   },
   "file_extension": ".py",
   "mimetype": "text/x-python",
   "name": "python",
   "nbconvert_exporter": "python",
   "pygments_lexer": "ipython3",
   "version": "3.8.10"
  },
  "vscode": {
   "interpreter": {
    "hash": "2f394aca7ca06fed1e6064aef884364492d7cdda3614a461e02e6407fc40ba69"
   }
  }
 },
 "nbformat": 4,
 "nbformat_minor": 4
}
