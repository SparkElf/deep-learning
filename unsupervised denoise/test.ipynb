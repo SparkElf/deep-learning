{
   "cells": [
      {
         "cell_type": "code",
         "execution_count": 1,
         "metadata": {},
         "outputs": [
            {
               "name": "stdout",
               "output_type": "stream",
               "text": [
                  "tensor([[1., 1., 1.],\n",
                  "        [0., 1., 1.],\n",
                  "        [1., 1., 1.]])\n",
                  "tensor([[[-0.4380,  0.2771,  1.3311],\n",
                  "         [ 0.2776,  0.2394,  0.1821],\n",
                  "         [-0.5370, -0.4340, -1.6707]],\n",
                  "\n",
                  "        [[-0.0457,  0.2544,  2.4002],\n",
                  "         [-0.4542, -0.9640,  0.5224],\n",
                  "         [ 0.9537, -1.7963,  0.1459]],\n",
                  "\n",
                  "        [[ 0.5814,  0.1576, -0.1730],\n",
                  "         [-0.9892,  1.5974, -2.1565],\n",
                  "         [ 0.4812,  0.6286, -0.9715]]])\n",
                  "tensor([[[-0.4380,  0.2771,  1.3311],\n",
                  "         [ 0.0000,  0.2394,  0.1821],\n",
                  "         [-0.5370, -0.4340, -1.6707]],\n",
                  "\n",
                  "        [[-0.0457,  0.2544,  2.4002],\n",
                  "         [-0.0000, -0.9640,  0.5224],\n",
                  "         [ 0.9537, -1.7963,  0.1459]],\n",
                  "\n",
                  "        [[ 0.5814,  0.1576, -0.1730],\n",
                  "         [-0.0000,  1.5974, -2.1565],\n",
                  "         [ 0.4812,  0.6286, -0.9715]]])\n",
                  "tensor([[[-0.0000,  0.0000,  0.0000],\n",
                  "         [ 0.2776,  0.0000,  0.0000],\n",
                  "         [-0.0000, -0.0000, -0.0000]],\n",
                  "\n",
                  "        [[-0.0000,  0.0000,  0.0000],\n",
                  "         [-0.4542, -0.0000,  0.0000],\n",
                  "         [ 0.0000, -0.0000,  0.0000]],\n",
                  "\n",
                  "        [[ 0.0000,  0.0000, -0.0000],\n",
                  "         [-0.9892,  0.0000, -0.0000],\n",
                  "         [ 0.0000,  0.0000, -0.0000]]])\n"
               ]
            }
         ],
         "source": [
            "from utils import create_mask\n",
            "import torch\n",
            "mask=create_mask(height=3,width=3,probability=0.5, mode='bernoulli')\n",
            "print(mask)\n",
            "x=torch.randn((3,3,3))\n",
            "print(x)\n",
            "print(x*mask)\n",
            "print(x*(1-mask))"
         ]
      }
   ],
   "metadata": {
      "kernelspec": {
         "display_name": "Python 3",
         "language": "python",
         "name": "python3"
      },
      "language_info": {
         "codemirror_mode": {
            "name": "ipython",
            "version": 3
         },
         "file_extension": ".py",
         "mimetype": "text/x-python",
         "name": "python",
         "nbconvert_exporter": "python",
         "pygments_lexer": "ipython3",
         "version": "3.10.8 | packaged by conda-forge | (main, Nov 24 2022, 14:07:00) [MSC v.1916 64 bit (AMD64)]"
      },
      "orig_nbformat": 4,
      "vscode": {
         "interpreter": {
            "hash": "d5d6a002194865cab5a4bec71c277f27d10bc8e4f07be28304c019a3736a4e23"
         }
      }
   },
   "nbformat": 4,
   "nbformat_minor": 2
}
