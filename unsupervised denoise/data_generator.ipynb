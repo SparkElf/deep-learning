{
 "cells": [
  {
   "cell_type": "code",
   "execution_count": 2,
   "metadata": {},
   "outputs": [],
   "source": [
    "import os\n",
    "import torch\n",
    "import torchvision\n",
    "baseDir='data/SIDD/SIDD_Small_sRGB_Only/Data/'\n",
    "count=1\n",
    "for folder in os.listdir(baseDir):\n",
    "    noisy,clean=None,None\n",
    "    for file in os.listdir(baseDir+folder):\n",
    "        if file.find('GT')!=-1:\n",
    "            clean=torchvision.io.read_image(baseDir+folder+'/'+file)\n",
    "        elif file.find('NOISY')!=-1:\n",
    "            noisy=torchvision.io.read_image(baseDir+folder+'/'+file)\n",
    "    for id in range(10):\n",
    "        i,j,h,w=torchvision.transforms.RandomCrop.get_params(img=noisy,output_size=(1024,1024))\n",
    "        noisy_block=torchvision.transforms.functional.crop(noisy,i,j,h,w)\n",
    "        clean_block=torchvision.transforms.functional.crop(clean,i,j,h,w)\n",
    "        torchvision.io.write_png(clean_block,r'data\\SIDD\\1024x1024\\clean\\GT_%d.png'%(count+id))\n",
    "        torchvision.io.write_png(noisy_block,r'data\\SIDD\\1024x1024\\noisy\\NOISY_%d.png'%(count+id))\n",
    "    count+=10"
   ]
  },
  {
   "cell_type": "code",
   "execution_count": 1,
   "metadata": {},
   "outputs": [],
   "source": [
    "import os\n",
    "import torch\n",
    "import torchvision\n",
    "baseDir='data/SIDD/SIDD_Small_sRGB_Only/Data/'\n",
    "count=1\n",
    "batch_size=50\n",
    "img_size=128\n",
    "for folder in os.listdir(baseDir):\n",
    "    noisy,clean=None,None\n",
    "    for file in os.listdir(baseDir+folder):\n",
    "        if file.find('GT')!=-1:\n",
    "            clean=torchvision.io.read_image(baseDir+folder+'/'+file)\n",
    "        elif file.find('NOISY')!=-1:\n",
    "            noisy=torchvision.io.read_image(baseDir+folder+'/'+file)\n",
    "    for id in range(batch_size):\n",
    "        i,j,h,w=torchvision.transforms.RandomCrop.get_params(img=noisy,output_size=(img_size,img_size))\n",
    "        noisy_block=torchvision.transforms.functional.crop(noisy,i,j,h,w)\n",
    "        clean_block=torchvision.transforms.functional.crop(clean,i,j,h,w)\n",
    "        torchvision.io.write_png(clean_block,r'data/SIDD/%dx%d/clean/GT_%d.png'%(img_size,img_size,count+id))\n",
    "        torchvision.io.write_png(noisy_block,r'data/SIDD/%dx%d/noisy/NOISY_%d.png'%(img_size,img_size,count+id))\n",
    "    count+=batch_size"
   ]
  },
  {
   "cell_type": "code",
   "execution_count": 1,
   "metadata": {},
   "outputs": [],
   "source": [
    "import requests\n",
    "resp=requests.get('https://www2.eecs.berkeley.edu/Research/Projects/CS/vision/bsds/BSDS300-images.tgz')\n",
    "with open('data/BSDS300-images.tgz','wb') as fp:\n",
    "    fp.write(resp.content)"
   ]
  },
  {
   "cell_type": "code",
   "execution_count": 2,
   "metadata": {},
   "outputs": [],
   "source": [
    "import os\n",
    "import torch\n",
    "from torchvision import transforms\n",
    "import torchvision\n",
    "count=1\n",
    "img_size=128\n",
    "baseDir=f'data/BSDS300/images/train/'\n",
    "for file in os.listdir(baseDir):\n",
    "    img=torchvision.io.read_image(baseDir+file)\n",
    "    i,j,h,w=transforms.RandomCrop.get_params(img=img,output_size=(img_size,img_size))\n",
    "    img_block=transforms.functional.crop(img,i,j,h,w)\n",
    "    transform=transforms.Compose([\n",
    "            transforms.CenterCrop(img_size)\n",
    "        ])\n",
    "    img_block=transform(img_block)\n",
    "    torchvision.io.write_png(img_block,f'data/BSDS300/{img_size}x{img_size}/base/train/{count}.png')\n",
    "    count+=1"
   ]
  }
 ],
 "metadata": {
  "kernelspec": {
   "display_name": "base",
   "language": "python",
   "name": "python3"
  },
  "language_info": {
   "codemirror_mode": {
    "name": "ipython",
    "version": 3
   },
   "file_extension": ".py",
   "mimetype": "text/x-python",
   "name": "python",
   "nbconvert_exporter": "python",
   "pygments_lexer": "ipython3",
   "version": "3.8.10"
  },
  "orig_nbformat": 4,
  "vscode": {
   "interpreter": {
    "hash": "2f394aca7ca06fed1e6064aef884364492d7cdda3614a461e02e6407fc40ba69"
   }
  }
 },
 "nbformat": 4,
 "nbformat_minor": 2
}
