{
 "cells": [
  {
   "cell_type": "markdown",
   "metadata": {},
   "source": [
    "# 环境"
   ]
  },
  {
   "cell_type": "code",
   "execution_count": 1,
   "metadata": {
    "slideshow": {
     "slide_type": "subslide"
    }
   },
   "outputs": [
    {
     "name": "stdout",
     "output_type": "stream",
     "text": [
      "1.13.1\n",
      "cuda\n",
      "d:\\project\\deep-learning\\unsupervised denoise\n"
     ]
    }
   ],
   "source": [
    "import torch\n",
    "import torchmetrics\n",
    "import torchvision\n",
    "import os\n",
    "import gc\n",
    "import torch.nn as nn\n",
    "from torchvision import transforms\n",
    "print(torch.__version__)\n",
    "device='cuda' if torch.cuda.is_available() else 'cpu'\n",
    "print(device)\n",
    "if device=='cuda':\n",
    "    gc.collect()\n",
    "    torch.cuda.empty_cache()\n",
    "print(os.getcwd())\n"
   ]
  },
  {
   "cell_type": "markdown",
   "metadata": {},
   "source": [
    "# 模型"
   ]
  },
  {
   "cell_type": "code",
   "execution_count": 25,
   "metadata": {},
   "outputs": [],
   "source": [
    "class HourGlassCNNBlock(nn.Module):\n",
    "    def __init__(self,in_channels,out_channels,size=(128,128),layernorm=False,batchnorm=False,activation=True):\n",
    "        super(HourGlassCNNBlock,self).__init__()\n",
    "        layers=[]\n",
    "        layers.append(nn.Conv2d(in_channels=in_channels, out_channels=out_channels, kernel_size=3, padding=1))\n",
    "        if layernorm:layers.append(nn.LayerNorm([out_channels,size[0],size[1]]))\n",
    "        if batchnorm:layers.append(nn.BatchNorm2d(out_channels))\n",
    "        if activation:layers.append(nn.SiLU())\n",
    "        self.main=nn.Sequential(*layers)\n",
    "    def forward(self,x):\n",
    "        return self.main(x)#channel不同不能进行残差学习\n",
    "\n",
    "class HourGlassCNN(nn.Module):\n",
    "    def __init__(self,size=(128,128),layernorm=False,batchnorm=False):\n",
    "        super(HourGlassCNN,self).__init__()\n",
    "        self.blocks=nn.ModuleList([\n",
    "            HourGlassCNNBlock(3,64,size,layernorm=False,batchnorm=False),#0\n",
    "            HourGlassCNNBlock(64,128,size,layernorm,batchnorm),#1\n",
    "            HourGlassCNNBlock(128,256,size,layernorm,batchnorm),#2\n",
    "            HourGlassCNNBlock(256,512,size,layernorm,batchnorm),#3\n",
    "            HourGlassCNNBlock(512,1024,size,layernorm,batchnorm),#4\n",
    "\n",
    "            HourGlassCNNBlock(1024,512,size,layernorm,batchnorm),#5\n",
    "            HourGlassCNNBlock(512,256,size,layernorm,batchnorm),#6\n",
    "            HourGlassCNNBlock(256,128,size,layernorm,batchnorm),#7\n",
    "            HourGlassCNNBlock(128,64,size,layernorm,batchnorm),#8\n",
    "            HourGlassCNNBlock(64,3,size,layernorm=False,batchnorm=False,activation=False),#9\n",
    "        ])\n",
    "    def forward(self,x):\n",
    "        y0=self.blocks[0](x)\n",
    "        y1=self.blocks[1](y0)\n",
    "        y2=self.blocks[2](y1)\n",
    "        y3=self.blocks[3](y2)\n",
    "\n",
    "        y4=self.blocks[4](y3)\n",
    "\n",
    "        y5=self.blocks[5](y4)+y3#残差\n",
    "        y6=self.blocks[6](y5)+y2\n",
    "        y7=self.blocks[7](y6)+y1\n",
    "        y8=self.blocks[8](y7)+y0\n",
    "    \n",
    "        y9=self.blocks[9](y8)+x\n",
    "        return y9\n",
    "    def loss(self,input,target):\n",
    "        return nn.functional.smooth_l1_loss(self(input),target,beta=0.1)"
   ]
  },
  {
   "cell_type": "markdown",
   "metadata": {},
   "source": [
    "# 分析"
   ]
  },
  {
   "cell_type": "code",
   "execution_count": 27,
   "metadata": {},
   "outputs": [],
   "source": [
    "import torch.utils.tensorboard\n",
    "from torch.utils.tensorboard.writer import SummaryWriter\n",
    "from tqdm.notebook import tqdm\n",
    "from torchvision.utils import make_grid\n",
    "from matplotlib import pyplot as plt\n",
    "from torchmetrics import PeakSignalNoiseRatio"
   ]
  },
  {
   "cell_type": "code",
   "execution_count": 28,
   "metadata": {},
   "outputs": [],
   "source": [
    "def convert_to_rgb255(image:torch.Tensor):\n",
    "    image = (image + 1) / 2\n",
    "    image[image < 0] = 0\n",
    "    image[image > 1] = 1\n",
    "    return image\n",
    "def show_image(image:torch.Tensor):\n",
    "    image=convert_to_rgb255(image)\n",
    "    plt.imshow(transforms.ToPILImage()(image))\n",
    "    plt.show()\n",
    "\n",
    "writer=SummaryWriter()\n",
    "psnr=PeakSignalNoiseRatio().to(device=device)"
   ]
  },
  {
   "cell_type": "markdown",
   "metadata": {},
   "source": [
    "# 数据"
   ]
  },
  {
   "cell_type": "code",
   "execution_count": 29,
   "metadata": {},
   "outputs": [],
   "source": [
    "img_size=128\n",
    "batch_size=8"
   ]
  },
  {
   "cell_type": "code",
   "execution_count": 30,
   "metadata": {},
   "outputs": [],
   "source": [
    "\n",
    "from torch.utils.data import Dataset \n",
    "from torch.utils.data import DataLoader\n",
    "\n",
    "from PIL import Image\n",
    "# https://discuss.pytorch.org/t/torchvision-transfors-how-to-perform-identical-transform-on-both-image-and-target/10606/7\n",
    "\n",
    "class BSDSPairsDataSet(Dataset):\n",
    "    def __init__(self,dir=None,img_size=(128,128),sigma=30) -> None:\n",
    "        super(BSDSPairsDataSet,self).__init__()\n",
    "        if not dir:dir='./data/BSDS300/%dx%d/base'%img_size\n",
    "        self.img_size=img_size\n",
    "        self.paths=[dir+'/'+file for file in os.listdir(dir)]\n",
    "        self.sigma=sigma\n",
    "    def __getitem__(self,idx:int):\n",
    "        img_path = os.path.join(self.images_dir, self.files[idx])\n",
    "        clean = Image.open(img_path).convert('RGB')#比torchvision的好\n",
    "        transform = transforms.Compose([\n",
    "            # hwc->chw 并 归一化到[0,1]\n",
    "            transforms.ToTensor(),\n",
    "            # [−1,1]\n",
    "            transforms.Normalize((.5, .5, .5), (.5, .5, .5)),\n",
    "            ])\n",
    "        clean = transform(clean)\n",
    "        noisy = clean + self.sigma * torch.randn(clean.shape)/255\n",
    "        return noisy, clean\n",
    "    def __len__(self):\n",
    "        return len(self.paths)\n",
    "\n",
    "train_set=BSDSPairsDataSet()\n",
    "train_loader=DataLoader(train_set,batch_size=batch_size,shuffle=False)\n"
   ]
  },
  {
   "cell_type": "markdown",
   "metadata": {},
   "source": [
    "# 训练"
   ]
  },
  {
   "cell_type": "code",
   "execution_count": null,
   "metadata": {},
   "outputs": [],
   "source": [
    "import itertools\n",
    "from torch.optim import Adam\n",
    "noise_extractor = HourGlassCNN(layernorm=True,batchnorm=True).to(device)\n",
    "restomer = HourGlassCNN(layernorm=True,batchnorm=True).to(device)\n",
    "optimizer = Adam(itertools.chain(noise_extractor.parameters(),restomer.parameters()) , lr=1e-3)"
   ]
  },
  {
   "cell_type": "code",
   "execution_count": null,
   "metadata": {},
   "outputs": [],
   "source": [
    "# noise as clean：noisy-P'->noisy' 如果clean-P->noisy中的P近似于P'那么(noisy',noisy)训练可以近似复原噪声图片\n",
    "def train(input):\n",
    "    noises=noise_extractor(input)-input\n",
    "    total_loss=None\n",
    "    for i in range(batch_size):\n",
    "        for noisys,_ in train_loader:\n",
    "            noisys=noisys.to(device=device)\n",
    "            optimizer.zero_grad()\n",
    "            loss=restomer.loss(noisys+noises[i],noisys)\n",
    "            loss.backward()\n",
    "            optimizer.step()\n",
    "            with torch.no_grad():\n",
    "                total_loss+=loss.sum()#返回tensor，要避免计算图不释放，导致内存溢出\n",
    "    return total_loss\n",
    "def draw(mean_loss_noisy,mean_loss_clean,noisys,cleans,epoch):\n",
    "    outs=restomer(noisys)\n",
    "    writer.add_scalar('noisy_loss',mean_loss_noisy,epoch)\n",
    "    writer.add_scalar('clean_loss',mean_loss_clean,epoch)\n",
    "    writer.add_scalar('psnr',psnr(outs,cleans),epoch)\n",
    "    writer.add_image('noisy',make_grid(convert_to_rgb255(noisys)),epoch)\n",
    "    writer.add_image('clean',make_grid(convert_to_rgb255(cleans)),epoch)\n",
    "    writer.add_image('out',make_grid(convert_to_rgb255(outs)),epoch)\n",
    "def main(): \n",
    "    for epoch in tqdm(range(5000)):\n",
    "        total_loss_noisy,total_loss_clean=0,0\n",
    "        for noisys,cleans in train_loader:\n",
    "            noisys=noisys.to(device=device)\n",
    "            cleans=cleans.to(device=device)\n",
    "            total_loss_noisy+=train(noisys)\n",
    "            with torch.no_grad():\n",
    "                total_loss_clean+=restomer.loss(noisys,cleans).sum()\n",
    "        with torch.no_grad():\n",
    "            draw(total_loss_noisy,total_loss_clean,noisys,cleans,epoch)\n",
    "main()"
   ]
  }
 ],
 "metadata": {
  "kernelspec": {
   "display_name": "Python 3",
   "language": "python",
   "name": "python3"
  },
  "language_info": {
   "codemirror_mode": {
    "name": "ipython",
    "version": 3
   },
   "file_extension": ".py",
   "mimetype": "text/x-python",
   "name": "python",
   "nbconvert_exporter": "python",
   "pygments_lexer": "ipython3",
   "version": "3.10.8 | packaged by conda-forge | (main, Nov 24 2022, 14:07:00) [MSC v.1916 64 bit (AMD64)]"
  },
  "vscode": {
   "interpreter": {
    "hash": "d5d6a002194865cab5a4bec71c277f27d10bc8e4f07be28304c019a3736a4e23"
   }
  }
 },
 "nbformat": 4,
 "nbformat_minor": 4
}
