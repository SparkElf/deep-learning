{
 "cells": [
  {
   "cell_type": "markdown",
   "metadata": {},
   "source": [
    "# 环境"
   ]
  },
  {
   "cell_type": "code",
   "execution_count": 1,
   "metadata": {
    "slideshow": {
     "slide_type": "subslide"
    }
   },
   "outputs": [
    {
     "name": "stdout",
     "output_type": "stream",
     "text": [
      "1.11.0+cu113\n",
      "cuda\n",
      "/root/autodl-tmp/deep-learning/unsupervised denoise\n"
     ]
    }
   ],
   "source": [
    "import torch\n",
    "import torchmetrics\n",
    "import torchvision\n",
    "import os\n",
    "import gc\n",
    "import torch.nn as nn\n",
    "from torchvision import transforms\n",
    "print(torch.__version__)\n",
    "device='cuda' if torch.cuda.is_available() else 'cpu'\n",
    "print(device)\n",
    "if device=='cuda':\n",
    "    gc.collect()\n",
    "    torch.cuda.empty_cache()\n",
    "print(os.getcwd())\n"
   ]
  },
  {
   "cell_type": "markdown",
   "metadata": {},
   "source": [
    "# 模型"
   ]
  },
  {
   "cell_type": "code",
   "execution_count": 2,
   "metadata": {},
   "outputs": [],
   "source": [
    "class HourGlassCNNBlock(nn.Module):\n",
    "    def __init__(self,in_channels,out_channels,size=(128,128),layernorm=False,batchnorm=False,activation=True):\n",
    "        super(HourGlassCNNBlock,self).__init__()\n",
    "        layers=[]\n",
    "        layers.append(nn.Conv2d(in_channels=in_channels, out_channels=out_channels, kernel_size=3, padding=1))\n",
    "        if layernorm:layers.append(nn.LayerNorm([out_channels,size[0],size[1]]))\n",
    "        if batchnorm:layers.append(nn.BatchNorm2d(out_channels))\n",
    "        if activation:layers.append(nn.SiLU())\n",
    "        self.main=nn.Sequential(*layers)\n",
    "    def forward(self,x):\n",
    "        return self.main(x)#channel不同不能进行残差学习\n",
    "\n",
    "class HourGlassCNN(nn.Module):\n",
    "    def __init__(self,size=(128,128),layernorm=False,batchnorm=False):\n",
    "        super(HourGlassCNN,self).__init__()\n",
    "        self.blocks=nn.ModuleList([\n",
    "            HourGlassCNNBlock(3,64,size,layernorm=False,batchnorm=False),#0\n",
    "            HourGlassCNNBlock(64,128,size,layernorm,batchnorm),#1\n",
    "            HourGlassCNNBlock(128,256,size,layernorm,batchnorm),#2\n",
    "            HourGlassCNNBlock(256,512,size,layernorm,batchnorm),#3\n",
    "            HourGlassCNNBlock(512,1024,size,layernorm,batchnorm),#4\n",
    "\n",
    "            HourGlassCNNBlock(1024,512,size,layernorm,batchnorm),#5\n",
    "            HourGlassCNNBlock(512,256,size,layernorm,batchnorm),#6\n",
    "            HourGlassCNNBlock(256,128,size,layernorm,batchnorm),#7\n",
    "            HourGlassCNNBlock(128,64,size,layernorm,batchnorm),#8\n",
    "            HourGlassCNNBlock(64,3,size,layernorm=False,batchnorm=False,activation=False),#9\n",
    "        ])\n",
    "    def forward(self,x):\n",
    "        y0=self.blocks[0](x)\n",
    "        y1=self.blocks[1](y0)\n",
    "        y2=self.blocks[2](y1)\n",
    "        y3=self.blocks[3](y2)\n",
    "\n",
    "        y4=self.blocks[4](y3)\n",
    "\n",
    "        y5=self.blocks[5](y4)+y3#残差\n",
    "        y6=self.blocks[6](y5)+y2\n",
    "        y7=self.blocks[7](y6)+y1\n",
    "        y8=self.blocks[8](y7)+y0\n",
    "    \n",
    "        y9=self.blocks[9](y8)+x\n",
    "        return y9\n",
    "    def loss(self,input,target):\n",
    "        return nn.functional.smooth_l1_loss(input,target,beta=0.1)"
   ]
  },
  {
   "cell_type": "markdown",
   "metadata": {},
   "source": [
    "# 分析"
   ]
  },
  {
   "cell_type": "code",
   "execution_count": 3,
   "metadata": {},
   "outputs": [],
   "source": [
    "import torch.utils.tensorboard\n",
    "from torch.utils.tensorboard.writer import SummaryWriter\n",
    "from tqdm.notebook import tqdm\n",
    "from torchvision.utils import make_grid\n",
    "from matplotlib import pyplot as plt\n",
    "from torchmetrics import PeakSignalNoiseRatio"
   ]
  },
  {
   "cell_type": "code",
   "execution_count": 4,
   "metadata": {},
   "outputs": [],
   "source": [
    "def convert_to_rgb255(image:torch.Tensor):\n",
    "    image = (image + 1) / 2\n",
    "    image[image < 0] = 0\n",
    "    image[image > 1] = 1\n",
    "    return image\n",
    "def show_image(image:torch.Tensor):\n",
    "    image=convert_to_rgb255(image)\n",
    "    plt.imshow(transforms.ToPILImage()(image))\n",
    "    plt.show()\n",
    "\n",
    "writer=SummaryWriter()\n",
    "psnr=PeakSignalNoiseRatio().to(device=device)"
   ]
  },
  {
   "cell_type": "markdown",
   "metadata": {},
   "source": [
    "# 数据"
   ]
  },
  {
   "cell_type": "code",
   "execution_count": 5,
   "metadata": {},
   "outputs": [],
   "source": [
    "img_size=128\n",
    "batch_size=16"
   ]
  },
  {
   "cell_type": "code",
   "execution_count": 6,
   "metadata": {},
   "outputs": [],
   "source": [
    "\n",
    "from torch.utils.data import Dataset \n",
    "from torch.utils.data import DataLoader\n",
    "\n",
    "from PIL import Image\n",
    "# https://discuss.pytorch.org/t/torchvision-transfors-how-to-perform-identical-transform-on-both-image-and-target/10606/7\n",
    "\n",
    "class BSDSPairsDataSet(Dataset):\n",
    "    def __init__(self,imgs_dir=None,img_size=128,sigma=30) -> None:\n",
    "        super(BSDSPairsDataSet,self).__init__()\n",
    "        if not imgs_dir:imgs_dir=f'./data/BSDS300/{img_size}x{img_size}/base/train'\n",
    "        self.img_size=img_size\n",
    "        self.files=os.listdir(imgs_dir)\n",
    "        self.sigma=sigma\n",
    "        self.imgs_dir=imgs_dir\n",
    "    def __getitem__(self,idx:int):\n",
    "        img_path = os.path.join(self.imgs_dir, self.files[idx])\n",
    "        clean = Image.open(img_path).convert('RGB')#比torchvision的好\n",
    "        transform = transforms.Compose([\n",
    "            # hwc->chw 并 归一化到[0,1]\n",
    "            transforms.ToTensor(),\n",
    "            # [−1,1]\n",
    "            transforms.Normalize((.5, .5, .5), (.5, .5, .5)),\n",
    "            ])\n",
    "        clean = transform(clean)\n",
    "        noisy = clean + self.sigma * torch.randn(clean.shape)/255\n",
    "        return noisy, clean\n",
    "    def __len__(self):\n",
    "        return len(self.files)\n",
    "\n",
    "train_set=BSDSPairsDataSet()\n",
    "train_loader=DataLoader(train_set,batch_size=batch_size,shuffle=True)\n"
   ]
  },
  {
   "cell_type": "markdown",
   "metadata": {},
   "source": [
    "# 训练"
   ]
  },
  {
   "cell_type": "code",
   "execution_count": 7,
   "metadata": {},
   "outputs": [],
   "source": [
    "import itertools\n",
    "from torch.optim import Adam\n",
    "noise_extractor = HourGlassCNN(layernorm=True,batchnorm=True).to(device)\n",
    "restomer = HourGlassCNN(layernorm=True,batchnorm=True).to(device)\n",
    "noise_extractor_optimizer = Adam(noise_extractor.parameters() , lr=1e-3)\n",
    "restomer_optimizer=Adam(restomer.parameters() , lr=1e-3)"
   ]
  },
  {
   "cell_type": "code",
   "execution_count": 8,
   "metadata": {},
   "outputs": [
    {
     "data": {
      "application/vnd.jupyter.widget-view+json": {
       "model_id": "9ace94443a414397887ea85964e5ee98",
       "version_major": 2,
       "version_minor": 0
      },
      "text/plain": [
       "  0%|          | 0/5000 [00:00<?, ?it/s]"
      ]
     },
     "metadata": {},
     "output_type": "display_data"
    },
    {
     "ename": "KeyboardInterrupt",
     "evalue": "",
     "output_type": "error",
     "traceback": [
      "\u001b[0;31m---------------------------------------------------------------------------\u001b[0m",
      "\u001b[0;31mKeyboardInterrupt\u001b[0m                         Traceback (most recent call last)",
      "\u001b[1;32m/root/autodl-tmp/deep-learning/unsupervised denoise/train.ipynb Cell 13\u001b[0m in \u001b[0;36m<cell line: 64>\u001b[0;34m()\u001b[0m\n\u001b[1;32m     <a href='vscode-notebook-cell://ssh-remote%2Bregion-8.seetacloud.com/root/autodl-tmp/deep-learning/unsupervised%20denoise/train.ipynb#X15sdnNjb2RlLXJlbW90ZQ%3D%3D?line=61'>62</a>\u001b[0m         \u001b[39mwith\u001b[39;00m torch\u001b[39m.\u001b[39mno_grad():\n\u001b[1;32m     <a href='vscode-notebook-cell://ssh-remote%2Bregion-8.seetacloud.com/root/autodl-tmp/deep-learning/unsupervised%20denoise/train.ipynb#X15sdnNjb2RlLXJlbW90ZQ%3D%3D?line=62'>63</a>\u001b[0m             draw(total_loss_noisy,total_loss_clean,noisys,cleans,epoch)\n\u001b[0;32m---> <a href='vscode-notebook-cell://ssh-remote%2Bregion-8.seetacloud.com/root/autodl-tmp/deep-learning/unsupervised%20denoise/train.ipynb#X15sdnNjb2RlLXJlbW90ZQ%3D%3D?line=63'>64</a>\u001b[0m main()\n",
      "\u001b[1;32m/root/autodl-tmp/deep-learning/unsupervised denoise/train.ipynb Cell 13\u001b[0m in \u001b[0;36mmain\u001b[0;34m()\u001b[0m\n\u001b[1;32m     <a href='vscode-notebook-cell://ssh-remote%2Bregion-8.seetacloud.com/root/autodl-tmp/deep-learning/unsupervised%20denoise/train.ipynb#X15sdnNjb2RlLXJlbW90ZQ%3D%3D?line=56'>57</a>\u001b[0m noisys\u001b[39m=\u001b[39mnoisys\u001b[39m.\u001b[39mto(device\u001b[39m=\u001b[39mdevice)\n\u001b[1;32m     <a href='vscode-notebook-cell://ssh-remote%2Bregion-8.seetacloud.com/root/autodl-tmp/deep-learning/unsupervised%20denoise/train.ipynb#X15sdnNjb2RlLXJlbW90ZQ%3D%3D?line=57'>58</a>\u001b[0m cleans\u001b[39m=\u001b[39mcleans\u001b[39m.\u001b[39mto(device\u001b[39m=\u001b[39mdevice)\n\u001b[0;32m---> <a href='vscode-notebook-cell://ssh-remote%2Bregion-8.seetacloud.com/root/autodl-tmp/deep-learning/unsupervised%20denoise/train.ipynb#X15sdnNjb2RlLXJlbW90ZQ%3D%3D?line=58'>59</a>\u001b[0m total_loss_noisy\u001b[39m+\u001b[39m\u001b[39m=\u001b[39mtrain(noisys)\n\u001b[1;32m     <a href='vscode-notebook-cell://ssh-remote%2Bregion-8.seetacloud.com/root/autodl-tmp/deep-learning/unsupervised%20denoise/train.ipynb#X15sdnNjb2RlLXJlbW90ZQ%3D%3D?line=59'>60</a>\u001b[0m \u001b[39mwith\u001b[39;00m torch\u001b[39m.\u001b[39mno_grad():\n\u001b[1;32m     <a href='vscode-notebook-cell://ssh-remote%2Bregion-8.seetacloud.com/root/autodl-tmp/deep-learning/unsupervised%20denoise/train.ipynb#X15sdnNjb2RlLXJlbW90ZQ%3D%3D?line=60'>61</a>\u001b[0m     total_loss_clean\u001b[39m+\u001b[39m\u001b[39m=\u001b[39mrestomer\u001b[39m.\u001b[39mloss(restomer(noisys),cleans)\u001b[39m.\u001b[39msum()\n",
      "\u001b[1;32m/root/autodl-tmp/deep-learning/unsupervised denoise/train.ipynb Cell 13\u001b[0m in \u001b[0;36mtrain\u001b[0;34m(input)\u001b[0m\n\u001b[1;32m     <a href='vscode-notebook-cell://ssh-remote%2Bregion-8.seetacloud.com/root/autodl-tmp/deep-learning/unsupervised%20denoise/train.ipynb#X15sdnNjb2RlLXJlbW90ZQ%3D%3D?line=15'>16</a>\u001b[0m noise2\u001b[39m=\u001b[39mnoise_extractor(noisys2)\u001b[39m-\u001b[39mnoisys2\n\u001b[1;32m     <a href='vscode-notebook-cell://ssh-remote%2Bregion-8.seetacloud.com/root/autodl-tmp/deep-learning/unsupervised%20denoise/train.ipynb#X15sdnNjb2RlLXJlbW90ZQ%3D%3D?line=16'>17</a>\u001b[0m fake_noisys1\u001b[39m=\u001b[39mrestomer(noisys1\u001b[39m+\u001b[39mnoise2\u001b[39m.\u001b[39mdetach())\n\u001b[0;32m---> <a href='vscode-notebook-cell://ssh-remote%2Bregion-8.seetacloud.com/root/autodl-tmp/deep-learning/unsupervised%20denoise/train.ipynb#X15sdnNjb2RlLXJlbW90ZQ%3D%3D?line=17'>18</a>\u001b[0m fake_noisys2\u001b[39m=\u001b[39mrestomer(noisys2\u001b[39m+\u001b[39mnoise1\u001b[39m.\u001b[39mdetach())\n\u001b[1;32m     <a href='vscode-notebook-cell://ssh-remote%2Bregion-8.seetacloud.com/root/autodl-tmp/deep-learning/unsupervised%20denoise/train.ipynb#X15sdnNjb2RlLXJlbW90ZQ%3D%3D?line=18'>19</a>\u001b[0m loss1\u001b[39m=\u001b[39mrestomer\u001b[39m.\u001b[39mloss(fake_noisys2,noisys2)\u001b[39m+\u001b[39mrestomer\u001b[39m.\u001b[39mloss(fake_noisys1,noisys1)\n\u001b[1;32m     <a href='vscode-notebook-cell://ssh-remote%2Bregion-8.seetacloud.com/root/autodl-tmp/deep-learning/unsupervised%20denoise/train.ipynb#X15sdnNjb2RlLXJlbW90ZQ%3D%3D?line=19'>20</a>\u001b[0m loss1\u001b[39m.\u001b[39mbackward()\n",
      "\u001b[1;32m/root/autodl-tmp/deep-learning/unsupervised denoise/train.ipynb Cell 13\u001b[0m in \u001b[0;36mtrain\u001b[0;34m(input)\u001b[0m\n\u001b[1;32m     <a href='vscode-notebook-cell://ssh-remote%2Bregion-8.seetacloud.com/root/autodl-tmp/deep-learning/unsupervised%20denoise/train.ipynb#X15sdnNjb2RlLXJlbW90ZQ%3D%3D?line=15'>16</a>\u001b[0m noise2\u001b[39m=\u001b[39mnoise_extractor(noisys2)\u001b[39m-\u001b[39mnoisys2\n\u001b[1;32m     <a href='vscode-notebook-cell://ssh-remote%2Bregion-8.seetacloud.com/root/autodl-tmp/deep-learning/unsupervised%20denoise/train.ipynb#X15sdnNjb2RlLXJlbW90ZQ%3D%3D?line=16'>17</a>\u001b[0m fake_noisys1\u001b[39m=\u001b[39mrestomer(noisys1\u001b[39m+\u001b[39mnoise2\u001b[39m.\u001b[39mdetach())\n\u001b[0;32m---> <a href='vscode-notebook-cell://ssh-remote%2Bregion-8.seetacloud.com/root/autodl-tmp/deep-learning/unsupervised%20denoise/train.ipynb#X15sdnNjb2RlLXJlbW90ZQ%3D%3D?line=17'>18</a>\u001b[0m fake_noisys2\u001b[39m=\u001b[39mrestomer(noisys2\u001b[39m+\u001b[39mnoise1\u001b[39m.\u001b[39mdetach())\n\u001b[1;32m     <a href='vscode-notebook-cell://ssh-remote%2Bregion-8.seetacloud.com/root/autodl-tmp/deep-learning/unsupervised%20denoise/train.ipynb#X15sdnNjb2RlLXJlbW90ZQ%3D%3D?line=18'>19</a>\u001b[0m loss1\u001b[39m=\u001b[39mrestomer\u001b[39m.\u001b[39mloss(fake_noisys2,noisys2)\u001b[39m+\u001b[39mrestomer\u001b[39m.\u001b[39mloss(fake_noisys1,noisys1)\n\u001b[1;32m     <a href='vscode-notebook-cell://ssh-remote%2Bregion-8.seetacloud.com/root/autodl-tmp/deep-learning/unsupervised%20denoise/train.ipynb#X15sdnNjb2RlLXJlbW90ZQ%3D%3D?line=19'>20</a>\u001b[0m loss1\u001b[39m.\u001b[39mbackward()\n",
      "File \u001b[0;32m_pydevd_bundle/pydevd_cython.pyx:1366\u001b[0m, in \u001b[0;36m_pydevd_bundle.pydevd_cython.SafeCallWrapper.__call__\u001b[0;34m()\u001b[0m\n",
      "File \u001b[0;32m_pydevd_bundle/pydevd_cython.pyx:662\u001b[0m, in \u001b[0;36m_pydevd_bundle.pydevd_cython.PyDBFrame.trace_dispatch\u001b[0;34m()\u001b[0m\n",
      "File \u001b[0;32m_pydevd_bundle/pydevd_cython.pyx:1291\u001b[0m, in \u001b[0;36m_pydevd_bundle.pydevd_cython.PyDBFrame.trace_dispatch\u001b[0;34m()\u001b[0m\n",
      "File \u001b[0;32m_pydevd_bundle/pydevd_cython.pyx:1253\u001b[0m, in \u001b[0;36m_pydevd_bundle.pydevd_cython.PyDBFrame.trace_dispatch\u001b[0;34m()\u001b[0m\n",
      "File \u001b[0;32m_pydevd_bundle/pydevd_cython.pyx:297\u001b[0m, in \u001b[0;36m_pydevd_bundle.pydevd_cython.PyDBFrame.do_wait_suspend\u001b[0;34m()\u001b[0m\n",
      "File \u001b[0;32m~/miniconda3/lib/python3.8/site-packages/debugpy/_vendored/pydevd/pydevd.py:2023\u001b[0m, in \u001b[0;36mPyDB.do_wait_suspend\u001b[0;34m(self, thread, frame, event, arg, exception_type)\u001b[0m\n\u001b[1;32m   2020\u001b[0m             from_this_thread\u001b[39m.\u001b[39mappend(frame_custom_thread_id)\n\u001b[1;32m   2022\u001b[0m     \u001b[39mwith\u001b[39;00m \u001b[39mself\u001b[39m\u001b[39m.\u001b[39m_threads_suspended_single_notification\u001b[39m.\u001b[39mnotify_thread_suspended(thread_id, stop_reason):\n\u001b[0;32m-> 2023\u001b[0m         keep_suspended \u001b[39m=\u001b[39m \u001b[39mself\u001b[39;49m\u001b[39m.\u001b[39;49m_do_wait_suspend(thread, frame, event, arg, suspend_type, from_this_thread, frames_tracker)\n\u001b[1;32m   2025\u001b[0m frames_list \u001b[39m=\u001b[39m \u001b[39mNone\u001b[39;00m\n\u001b[1;32m   2027\u001b[0m \u001b[39mif\u001b[39;00m keep_suspended:\n\u001b[1;32m   2028\u001b[0m     \u001b[39m# This means that we should pause again after a set next statement.\u001b[39;00m\n",
      "File \u001b[0;32m~/miniconda3/lib/python3.8/site-packages/debugpy/_vendored/pydevd/pydevd.py:2059\u001b[0m, in \u001b[0;36mPyDB._do_wait_suspend\u001b[0;34m(self, thread, frame, event, arg, suspend_type, from_this_thread, frames_tracker)\u001b[0m\n\u001b[1;32m   2056\u001b[0m         \u001b[39mself\u001b[39m\u001b[39m.\u001b[39m_call_input_hook()\n\u001b[1;32m   2058\u001b[0m     \u001b[39mself\u001b[39m\u001b[39m.\u001b[39mprocess_internal_commands()\n\u001b[0;32m-> 2059\u001b[0m     time\u001b[39m.\u001b[39;49msleep(\u001b[39m0.01\u001b[39;49m)\n\u001b[1;32m   2061\u001b[0m \u001b[39mself\u001b[39m\u001b[39m.\u001b[39mcancel_async_evaluation(get_current_thread_id(thread), \u001b[39mstr\u001b[39m(\u001b[39mid\u001b[39m(frame)))\n\u001b[1;32m   2063\u001b[0m \u001b[39m# process any stepping instructions\u001b[39;00m\n",
      "\u001b[0;31mKeyboardInterrupt\u001b[0m: "
     ]
    }
   ],
   "source": [
    "# noise as clean：noisy-P'->noisy' 如果clean-P->noisy中的P近似于P'那么(noisy',noisy)训练可以近似复原噪声图片\n",
    "from random import randint\n",
    "from torch import zeros_like\n",
    "\n",
    "def train(input):\n",
    "    total_loss=0.0\n",
    "    noisys1=input[0:batch_size//2]\n",
    "    noisys2=input[batch_size//2:batch_size]\n",
    "\n",
    "    \n",
    "    #fake_noisys=restomer(noisys+noise)==noisys 只训练restomer\n",
    "    noise_extractor_optimizer.zero_grad()\n",
    "    restomer_optimizer.zero_grad()\n",
    "\n",
    "    noise1=noise_extractor(noisys1)-noisys1\n",
    "    noise2=noise_extractor(noisys2)-noisys2\n",
    "    fake_noisys1=restomer(noisys1+noise2.detach())\n",
    "    fake_noisys2=restomer(noisys2+noise1.detach())\n",
    "    loss1=restomer.loss(fake_noisys2,noisys2)+restomer.loss(fake_noisys1,noisys1)\n",
    "    loss1.backward()\n",
    "\n",
    "    noise_extractor_optimizer.step()\n",
    "    restomer_optimizer.step()#optimizer.step后才更新网络参数，loss只是计算梯度\n",
    "    \n",
    "    \n",
    "    \n",
    "    #restomer(cleans)==cleans\n",
    "    noise_extractor_optimizer.zero_grad()\n",
    "    restomer_optimizer.zero_grad()\n",
    "\n",
    "    cleans1=noisys1-noise1\n",
    "    cleans2=restomer(noisys2)\n",
    "    loss2=restomer.loss(restomer(cleans1),cleans1)+restomer.loss(restomer(cleans2),cleans2)+noise_extractor.loss(noise_extractor(cleans1),zeros_like(cleans1))+noise_extractor.loss(noise_extractor(cleans2),zeros_like(cleans2))\n",
    "    loss2.backward()\n",
    "    noise_extractor_optimizer.step()\n",
    "    restomer_optimizer.step()#optimizer.step后才更新网络参数，loss只是计算梯度\n",
    "\n",
    "    #restomer(fake_noisys)=restomer(noisys)\n",
    "    #loss3=restomer.loss(fake_noisys1,noisys1)+restomer.loss(restomer(fake_noisys2),cleans2)\n",
    "\n",
    "    with torch.no_grad():\n",
    "        total_loss+=loss1.sum()+loss2.sum()\n",
    "    return total_loss\n",
    "def draw(mean_loss_noisy,mean_loss_clean,noisys,cleans,epoch):\n",
    "    outs=restomer(noisys)\n",
    "    writer.add_scalar('noisy_loss',mean_loss_noisy,epoch)\n",
    "    writer.add_scalar('clean_loss',mean_loss_clean,epoch)\n",
    "    writer.add_scalar('psnr',psnr(outs,cleans),epoch)\n",
    "    writer.add_image('noisy',make_grid(convert_to_rgb255(noisys)),epoch)\n",
    "    writer.add_image('clean',make_grid(convert_to_rgb255(cleans)),epoch)\n",
    "    writer.add_image('out',make_grid(convert_to_rgb255(outs)),epoch)\n",
    "    writer.add_image('noise',make_grid(convert_to_rgb255(noise_extractor(noisys))),epoch)\n",
    "def main(): \n",
    "    for epoch in tqdm(range(5000)):\n",
    "        total_loss_noisy,total_loss_clean=0,0\n",
    "        for noisys,cleans in train_loader:\n",
    "            noisys=noisys.to(device=device)\n",
    "            cleans=cleans.to(device=device)\n",
    "            total_loss_noisy+=train(noisys)\n",
    "            with torch.no_grad():\n",
    "                total_loss_clean+=restomer.loss(restomer(noisys),cleans).sum()\n",
    "        with torch.no_grad():\n",
    "            draw(total_loss_noisy,total_loss_clean,noisys,cleans,epoch)\n",
    "main()"
   ]
  }
 ],
 "metadata": {
  "kernelspec": {
   "display_name": "base",
   "language": "python",
   "name": "python3"
  },
  "language_info": {
   "codemirror_mode": {
    "name": "ipython",
    "version": 3
   },
   "file_extension": ".py",
   "mimetype": "text/x-python",
   "name": "python",
   "nbconvert_exporter": "python",
   "pygments_lexer": "ipython3",
   "version": "3.8.10"
  },
  "vscode": {
   "interpreter": {
    "hash": "2f394aca7ca06fed1e6064aef884364492d7cdda3614a461e02e6407fc40ba69"
   }
  }
 },
 "nbformat": 4,
 "nbformat_minor": 4
}
