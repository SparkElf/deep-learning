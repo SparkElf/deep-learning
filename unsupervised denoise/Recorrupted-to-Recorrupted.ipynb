{
 "cells": [
  {
   "cell_type": "markdown",
   "metadata": {},
   "source": [
    "# 环境"
   ]
  },
  {
   "cell_type": "code",
   "execution_count": 1,
   "metadata": {
    "slideshow": {
     "slide_type": "subslide"
    }
   },
   "outputs": [
    {
     "name": "stdout",
     "output_type": "stream",
     "text": [
      "1.11.0+cu113\n",
      "cuda\n",
      "/root/autodl-tmp/deep-learning/unsupervised denoise\n"
     ]
    }
   ],
   "source": [
    "import torch\n",
    "import torchmetrics\n",
    "import torchvision\n",
    "import os\n",
    "import gc\n",
    "import torch.nn as nn\n",
    "from torchvision import transforms\n",
    "print(torch.__version__)\n",
    "device='cuda' if torch.cuda.is_available() else 'cpu'\n",
    "print(device)\n",
    "if device=='cuda':\n",
    "    gc.collect()\n",
    "    torch.cuda.empty_cache()\n",
    "print(os.getcwd())\n"
   ]
  },
  {
   "cell_type": "markdown",
   "metadata": {},
   "source": [
    "# 模型"
   ]
  },
  {
   "cell_type": "code",
   "execution_count": 2,
   "metadata": {},
   "outputs": [],
   "source": [
    "class HourGlassCNNBlock(nn.Module):\n",
    "    def __init__(self,in_channels,out_channels,size=(128,128),layernorm=False,batchnorm=False,activation=True):\n",
    "        super(HourGlassCNNBlock,self).__init__()\n",
    "        layers=[]\n",
    "        layers.append(nn.Conv2d(in_channels=in_channels, out_channels=out_channels, kernel_size=3, padding=1))\n",
    "        if layernorm:layers.append(nn.LayerNorm([out_channels,size[0],size[1]]))\n",
    "        if batchnorm:layers.append(nn.BatchNorm2d(out_channels))\n",
    "        if activation:layers.append(nn.SiLU())\n",
    "        self.main=nn.Sequential(*layers)\n",
    "    def forward(self,x):\n",
    "        return self.main(x)#channel不同不能进行残差学习\n",
    "\n",
    "class NoiseExtractor(nn.Module):\n",
    "    def __init__(self,size=(128,128),layernorm=False,batchnorm=False):\n",
    "        super(NoiseExtractor,self).__init__()\n",
    "        self.blocks=nn.ModuleList([\n",
    "            HourGlassCNNBlock(3,64,size,layernorm=False,batchnorm=False),#0\n",
    "            HourGlassCNNBlock(64,128,size,layernorm,batchnorm),#1\n",
    "            HourGlassCNNBlock(128,256,size,layernorm,batchnorm),#2\n",
    "            \n",
    "            HourGlassCNNBlock(256,512,size,layernorm,batchnorm),#3\n",
    "\n",
    "            HourGlassCNNBlock(512,256,size,layernorm,batchnorm),#4\n",
    "            HourGlassCNNBlock(256,128,size,layernorm,batchnorm),#5\n",
    "            HourGlassCNNBlock(128,64,size,layernorm,batchnorm),#6\n",
    "            HourGlassCNNBlock(64,3,size,layernorm=False,batchnorm=False,activation=False),#7\n",
    "        ])\n",
    "    def forward(self,x):\n",
    "        y0=self.blocks[0](x)\n",
    "        y1=self.blocks[1](y0)\n",
    "        y2=self.blocks[2](y1)\n",
    "        y3=self.blocks[3](y2)\n",
    "\n",
    "        y4=self.blocks[4](y3)+y2\n",
    "        y5=self.blocks[5](y4)+y1\n",
    "        y6=self.blocks[6](y5)+y0\n",
    "        y7=self.blocks[7](y6)\n",
    "        return y7\n",
    "    def loss(self,input,target):\n",
    "        return nn.functional.smooth_l1_loss(input,target,beta=0.1)\n",
    "class Denoiser(nn.Module):\n",
    "    def __init__(self,size=(128,128),layernorm=False,batchnorm=False):\n",
    "        super(Denoiser,self).__init__()\n",
    "        self.blocks=nn.ModuleList([\n",
    "            HourGlassCNNBlock(3,64,size,layernorm=False,batchnorm=False),#0\n",
    "            HourGlassCNNBlock(64,128,size,layernorm,batchnorm),#1\n",
    "            HourGlassCNNBlock(128,256,size,layernorm,batchnorm),#2\n",
    "            \n",
    "            HourGlassCNNBlock(256,512,size,layernorm,batchnorm),#3\n",
    "\n",
    "            HourGlassCNNBlock(512,256,size,layernorm,batchnorm),#4\n",
    "            HourGlassCNNBlock(256,128,size,layernorm,batchnorm),#5\n",
    "            HourGlassCNNBlock(128,64,size,layernorm,batchnorm),#6\n",
    "            HourGlassCNNBlock(64,3,size,layernorm=False,batchnorm=False,activation=False),#7\n",
    "        ])\n",
    "    def forward(self,x):\n",
    "        y0=self.blocks[0](x)\n",
    "        y1=self.blocks[1](y0)\n",
    "        y2=self.blocks[2](y1)\n",
    "        y3=self.blocks[3](y2)\n",
    "\n",
    "        y4=self.blocks[4](y3)+y2\n",
    "        y5=self.blocks[5](y4)+y1\n",
    "        y6=self.blocks[6](y5)+y0\n",
    "        y7=self.blocks[7](y6)+x\n",
    "        return y7\n",
    "    def loss(self,input,target):\n",
    "        return nn.functional.smooth_l1_loss(input,target,beta=0.1)"
   ]
  },
  {
   "cell_type": "markdown",
   "metadata": {},
   "source": [
    "# 分析"
   ]
  },
  {
   "cell_type": "code",
   "execution_count": 3,
   "metadata": {},
   "outputs": [],
   "source": [
    "import torch.utils.tensorboard\n",
    "from torch.utils.tensorboard.writer import SummaryWriter\n",
    "from tqdm.notebook import tqdm\n",
    "from torchvision.utils import make_grid\n",
    "from matplotlib import pyplot as plt\n",
    "from torchmetrics import PeakSignalNoiseRatio"
   ]
  },
  {
   "cell_type": "code",
   "execution_count": 4,
   "metadata": {},
   "outputs": [],
   "source": [
    "def convert_to_rgb255(image:torch.Tensor):\n",
    "    image = (image + 1) / 2\n",
    "    image[image < 0] = 0\n",
    "    image[image > 1] = 1\n",
    "    return image\n",
    "def show_image(image:torch.Tensor):\n",
    "    image=convert_to_rgb255(image)\n",
    "    plt.imshow(transforms.ToPILImage()(image))\n",
    "    plt.show()\n",
    "\n",
    "writer=SummaryWriter()\n",
    "psnr=PeakSignalNoiseRatio().to(device=device)"
   ]
  },
  {
   "cell_type": "markdown",
   "metadata": {},
   "source": [
    "# 数据"
   ]
  },
  {
   "cell_type": "code",
   "execution_count": 5,
   "metadata": {},
   "outputs": [],
   "source": [
    "img_size=128\n",
    "batch_size=8"
   ]
  },
  {
   "cell_type": "code",
   "execution_count": 6,
   "metadata": {},
   "outputs": [],
   "source": [
    "\n",
    "from torch.utils.data import Dataset \n",
    "from torch.utils.data import DataLoader\n",
    "\n",
    "from PIL import Image\n",
    "# https://discuss.pytorch.org/t/torchvision-transfors-how-to-perform-identical-transform-on-both-image-and-target/10606/7\n",
    "\n",
    "class BSDSPairsDataSet(Dataset):\n",
    "    def __init__(self,imgs_dir=None,img_size=128,sigma=30) -> None:\n",
    "        super(BSDSPairsDataSet,self).__init__()\n",
    "        if not imgs_dir:imgs_dir=f'./data/BSDS300/{img_size}x{img_size}/base/train'\n",
    "        self.img_size=img_size\n",
    "        self.files=os.listdir(imgs_dir)\n",
    "        self.sigma=sigma\n",
    "        self.imgs_dir=imgs_dir\n",
    "    def __getitem__(self,idx:int):\n",
    "        img_path = os.path.join(self.imgs_dir, self.files[idx])\n",
    "        clean = Image.open(img_path).convert('RGB')#比torchvision的好\n",
    "        transform = transforms.Compose([\n",
    "            # hwc->chw 并 归一化到[0,1]\n",
    "            transforms.ToTensor(),\n",
    "            # [−1,1]\n",
    "            transforms.Normalize((.5, .5, .5), (.5, .5, .5)),\n",
    "            ])\n",
    "        clean = transform(clean)\n",
    "        noisy = clean + self.sigma * torch.randn(clean.shape)/255\n",
    "        return noisy, clean\n",
    "    def __len__(self):\n",
    "        return len(self.files)\n",
    "\n",
    "train_set=BSDSPairsDataSet()\n",
    "train_loader=DataLoader(train_set,batch_size=batch_size,shuffle=True)\n"
   ]
  },
  {
   "cell_type": "markdown",
   "metadata": {},
   "source": [
    "# 训练"
   ]
  },
  {
   "cell_type": "code",
   "execution_count": 7,
   "metadata": {},
   "outputs": [],
   "source": [
    "import itertools\n",
    "from torch.optim import Adam\n",
    "noise_extractor = NoiseExtractor(layernorm=False,batchnorm=False).to(device)\n",
    "denoiser = Denoiser(layernorm=False,batchnorm=False).to(device)\n",
    "noise_extractor_optimizer = Adam(noise_extractor.parameters() , lr=1e-3)\n",
    "denoiser_optimizer=Adam(denoiser.parameters() , lr=1e-3)"
   ]
  },
  {
   "cell_type": "code",
   "execution_count": 8,
   "metadata": {},
   "outputs": [
    {
     "data": {
      "application/vnd.jupyter.widget-view+json": {
       "model_id": "8d2983b8f3c24cca90fbdf71bae21192",
       "version_major": 2,
       "version_minor": 0
      },
      "text/plain": [
       "  0%|          | 0/5000 [00:00<?, ?it/s]"
      ]
     },
     "metadata": {},
     "output_type": "display_data"
    },
    {
     "ename": "KeyboardInterrupt",
     "evalue": "",
     "output_type": "error",
     "traceback": [
      "\u001b[0;31m---------------------------------------------------------------------------\u001b[0m",
      "\u001b[0;31mKeyboardInterrupt\u001b[0m                         Traceback (most recent call last)",
      "\u001b[1;32m/root/autodl-tmp/deep-learning/unsupervised denoise/train.ipynb Cell 13\u001b[0m in \u001b[0;36m<cell line: 50>\u001b[0;34m()\u001b[0m\n\u001b[1;32m     <a href='vscode-notebook-cell://ssh-remote%2Bregion-8.seetacloud.com/root/autodl-tmp/deep-learning/unsupervised%20denoise/train.ipynb#X15sdnNjb2RlLXJlbW90ZQ%3D%3D?line=47'>48</a>\u001b[0m         \u001b[39mwith\u001b[39;00m torch\u001b[39m.\u001b[39mno_grad():\n\u001b[1;32m     <a href='vscode-notebook-cell://ssh-remote%2Bregion-8.seetacloud.com/root/autodl-tmp/deep-learning/unsupervised%20denoise/train.ipynb#X15sdnNjb2RlLXJlbW90ZQ%3D%3D?line=48'>49</a>\u001b[0m             draw(total_loss_noisy,total_loss_clean,epoch)\n\u001b[0;32m---> <a href='vscode-notebook-cell://ssh-remote%2Bregion-8.seetacloud.com/root/autodl-tmp/deep-learning/unsupervised%20denoise/train.ipynb#X15sdnNjb2RlLXJlbW90ZQ%3D%3D?line=49'>50</a>\u001b[0m main()\n",
      "\u001b[1;32m/root/autodl-tmp/deep-learning/unsupervised denoise/train.ipynb Cell 13\u001b[0m in \u001b[0;36mmain\u001b[0;34m()\u001b[0m\n\u001b[1;32m     <a href='vscode-notebook-cell://ssh-remote%2Bregion-8.seetacloud.com/root/autodl-tmp/deep-learning/unsupervised%20denoise/train.ipynb#X15sdnNjb2RlLXJlbW90ZQ%3D%3D?line=42'>43</a>\u001b[0m noisys\u001b[39m=\u001b[39mnoisys\u001b[39m.\u001b[39mto(device\u001b[39m=\u001b[39mdevice)\n\u001b[1;32m     <a href='vscode-notebook-cell://ssh-remote%2Bregion-8.seetacloud.com/root/autodl-tmp/deep-learning/unsupervised%20denoise/train.ipynb#X15sdnNjb2RlLXJlbW90ZQ%3D%3D?line=43'>44</a>\u001b[0m cleans\u001b[39m=\u001b[39mcleans\u001b[39m.\u001b[39mto(device\u001b[39m=\u001b[39mdevice)\n\u001b[0;32m---> <a href='vscode-notebook-cell://ssh-remote%2Bregion-8.seetacloud.com/root/autodl-tmp/deep-learning/unsupervised%20denoise/train.ipynb#X15sdnNjb2RlLXJlbW90ZQ%3D%3D?line=44'>45</a>\u001b[0m total_loss_noisy\u001b[39m+\u001b[39m\u001b[39m=\u001b[39mtrain(noisys)\n\u001b[1;32m     <a href='vscode-notebook-cell://ssh-remote%2Bregion-8.seetacloud.com/root/autodl-tmp/deep-learning/unsupervised%20denoise/train.ipynb#X15sdnNjb2RlLXJlbW90ZQ%3D%3D?line=45'>46</a>\u001b[0m \u001b[39mwith\u001b[39;00m torch\u001b[39m.\u001b[39mno_grad():\n\u001b[1;32m     <a href='vscode-notebook-cell://ssh-remote%2Bregion-8.seetacloud.com/root/autodl-tmp/deep-learning/unsupervised%20denoise/train.ipynb#X15sdnNjb2RlLXJlbW90ZQ%3D%3D?line=46'>47</a>\u001b[0m     total_loss_clean\u001b[39m+\u001b[39m\u001b[39m=\u001b[39mdenoiser\u001b[39m.\u001b[39mloss(denoiser(noisys),cleans)\u001b[39m.\u001b[39msum()\n",
      "\u001b[1;32m/root/autodl-tmp/deep-learning/unsupervised denoise/train.ipynb Cell 13\u001b[0m in \u001b[0;36mtrain\u001b[0;34m(noisys)\u001b[0m\n\u001b[1;32m     <a href='vscode-notebook-cell://ssh-remote%2Bregion-8.seetacloud.com/root/autodl-tmp/deep-learning/unsupervised%20denoise/train.ipynb#X15sdnNjb2RlLXJlbW90ZQ%3D%3D?line=18'>19</a>\u001b[0m loss7\u001b[39m=\u001b[39m\u001b[39m1\u001b[39m\u001b[39m/\u001b[39mnoise_extractor\u001b[39m.\u001b[39mloss(cleans,noisys)\n\u001b[1;32m     <a href='vscode-notebook-cell://ssh-remote%2Bregion-8.seetacloud.com/root/autodl-tmp/deep-learning/unsupervised%20denoise/train.ipynb#X15sdnNjb2RlLXJlbW90ZQ%3D%3D?line=19'>20</a>\u001b[0m loss\u001b[39m=\u001b[39mloss1\u001b[39m+\u001b[39mloss2\u001b[39m+\u001b[39mloss3\u001b[39m+\u001b[39mloss4\u001b[39m+\u001b[39mloss5\u001b[39m+\u001b[39mloss6\u001b[39m+\u001b[39mloss7\n\u001b[0;32m---> <a href='vscode-notebook-cell://ssh-remote%2Bregion-8.seetacloud.com/root/autodl-tmp/deep-learning/unsupervised%20denoise/train.ipynb#X15sdnNjb2RlLXJlbW90ZQ%3D%3D?line=20'>21</a>\u001b[0m loss\u001b[39m.\u001b[39;49mbackward()\n\u001b[1;32m     <a href='vscode-notebook-cell://ssh-remote%2Bregion-8.seetacloud.com/root/autodl-tmp/deep-learning/unsupervised%20denoise/train.ipynb#X15sdnNjb2RlLXJlbW90ZQ%3D%3D?line=22'>23</a>\u001b[0m noise_extractor_optimizer\u001b[39m.\u001b[39mstep()\n\u001b[1;32m     <a href='vscode-notebook-cell://ssh-remote%2Bregion-8.seetacloud.com/root/autodl-tmp/deep-learning/unsupervised%20denoise/train.ipynb#X15sdnNjb2RlLXJlbW90ZQ%3D%3D?line=23'>24</a>\u001b[0m denoiser_optimizer\u001b[39m.\u001b[39mstep()\n",
      "File \u001b[0;32m~/miniconda3/lib/python3.8/site-packages/torch/_tensor.py:363\u001b[0m, in \u001b[0;36mTensor.backward\u001b[0;34m(self, gradient, retain_graph, create_graph, inputs)\u001b[0m\n\u001b[1;32m    354\u001b[0m \u001b[39mif\u001b[39;00m has_torch_function_unary(\u001b[39mself\u001b[39m):\n\u001b[1;32m    355\u001b[0m     \u001b[39mreturn\u001b[39;00m handle_torch_function(\n\u001b[1;32m    356\u001b[0m         Tensor\u001b[39m.\u001b[39mbackward,\n\u001b[1;32m    357\u001b[0m         (\u001b[39mself\u001b[39m,),\n\u001b[0;32m   (...)\u001b[0m\n\u001b[1;32m    361\u001b[0m         create_graph\u001b[39m=\u001b[39mcreate_graph,\n\u001b[1;32m    362\u001b[0m         inputs\u001b[39m=\u001b[39minputs)\n\u001b[0;32m--> 363\u001b[0m torch\u001b[39m.\u001b[39;49mautograd\u001b[39m.\u001b[39;49mbackward(\u001b[39mself\u001b[39;49m, gradient, retain_graph, create_graph, inputs\u001b[39m=\u001b[39;49minputs)\n",
      "File \u001b[0;32m~/miniconda3/lib/python3.8/site-packages/torch/autograd/__init__.py:173\u001b[0m, in \u001b[0;36mbackward\u001b[0;34m(tensors, grad_tensors, retain_graph, create_graph, grad_variables, inputs)\u001b[0m\n\u001b[1;32m    168\u001b[0m     retain_graph \u001b[39m=\u001b[39m create_graph\n\u001b[1;32m    170\u001b[0m \u001b[39m# The reason we repeat same the comment below is that\u001b[39;00m\n\u001b[1;32m    171\u001b[0m \u001b[39m# some Python versions print out the first line of a multi-line function\u001b[39;00m\n\u001b[1;32m    172\u001b[0m \u001b[39m# calls in the traceback and some print out the last line\u001b[39;00m\n\u001b[0;32m--> 173\u001b[0m Variable\u001b[39m.\u001b[39;49m_execution_engine\u001b[39m.\u001b[39;49mrun_backward(  \u001b[39m# Calls into the C++ engine to run the backward pass\u001b[39;49;00m\n\u001b[1;32m    174\u001b[0m     tensors, grad_tensors_, retain_graph, create_graph, inputs,\n\u001b[1;32m    175\u001b[0m     allow_unreachable\u001b[39m=\u001b[39;49m\u001b[39mTrue\u001b[39;49;00m, accumulate_grad\u001b[39m=\u001b[39;49m\u001b[39mTrue\u001b[39;49;00m)\n",
      "\u001b[0;31mKeyboardInterrupt\u001b[0m: "
     ]
    }
   ],
   "source": [
    "# noise as clean：noisy-P'->noisy' 如果clean-P->noisy中的P近似于P'那么(noisy',noisy)训练可以近似复原噪声图片\n",
    "from random import randint\n",
    "from torch import zeros_like\n",
    "\n",
    "def train(noisys):\n",
    "    total_loss=0.0\n",
    "    noise_extractor_optimizer.zero_grad()\n",
    "    denoiser_optimizer.zero_grad()\n",
    "\n",
    "    noise=noise_extractor(noisys)\n",
    "    cleans=denoiser(noisys)\n",
    "    loss1=noise_extractor.loss(noise_extractor(cleans),zeros_like(noisys))\n",
    "    loss2=noise_extractor.loss(noise_extractor(noise),noise)\n",
    "    loss3=denoiser.loss(denoiser(cleans),cleans)\n",
    "    loss4=denoiser.loss(denoiser(noise),zeros_like(noisys))\n",
    "    loss5=noise_extractor.loss(cleans+noise,noisys)\n",
    "\n",
    "    loss6=1/noise_extractor.loss(noise,zeros_like(noisys))\n",
    "    loss7=1/noise_extractor.loss(cleans,noisys)\n",
    "    loss=loss1+loss2+loss3+loss4+loss5+loss6+loss7\n",
    "    loss.backward()\n",
    "\n",
    "    noise_extractor_optimizer.step()\n",
    "    denoiser_optimizer.step()\n",
    "    return loss.sum()\n",
    "def draw(mean_loss_noisy,mean_loss_clean,epoch):\n",
    "    noisys,cleans=next(iter(train_loader))\n",
    "    noisys=noisys.to(device=device)\n",
    "    cleans=cleans.to(device=device)\n",
    "    outs=denoiser(noisys)\n",
    "    writer.add_scalar('noisy_loss',mean_loss_noisy,epoch)\n",
    "    writer.add_scalar('clean_loss',mean_loss_clean,epoch)\n",
    "    writer.add_scalar('psnr',psnr(outs,cleans),epoch)\n",
    "    writer.add_image('noisy',make_grid(convert_to_rgb255(noisys)),epoch)\n",
    "    writer.add_image('clean',make_grid(convert_to_rgb255(cleans)),epoch)\n",
    "    writer.add_image('out',make_grid(convert_to_rgb255(outs)),epoch)\n",
    "    writer.add_image('noise',make_grid(convert_to_rgb255(noise_extractor(noisys))),epoch)\n",
    "def main(): \n",
    "    for epoch in tqdm(range(5000)):\n",
    "        total_loss_noisy,total_loss_clean=0,0\n",
    "        for noisys,cleans in train_loader:\n",
    "            if noisys.shape[0]!=batch_size:break\n",
    "            noisys=noisys.to(device=device)\n",
    "            cleans=cleans.to(device=device)\n",
    "            total_loss_noisy+=train(noisys)\n",
    "            with torch.no_grad():\n",
    "                total_loss_clean+=denoiser.loss(denoiser(noisys),cleans).sum()\n",
    "        with torch.no_grad():\n",
    "            draw(total_loss_noisy,total_loss_clean,epoch)\n",
    "main()"
   ]
  }
 ],
 "metadata": {
  "kernelspec": {
   "display_name": "base",
   "language": "python",
   "name": "python3"
  },
  "language_info": {
   "codemirror_mode": {
    "name": "ipython",
    "version": 3
   },
   "file_extension": ".py",
   "mimetype": "text/x-python",
   "name": "python",
   "nbconvert_exporter": "python",
   "pygments_lexer": "ipython3",
   "version": "3.8.10"
  },
  "vscode": {
   "interpreter": {
    "hash": "2f394aca7ca06fed1e6064aef884364492d7cdda3614a461e02e6407fc40ba69"
   }
  }
 },
 "nbformat": 4,
 "nbformat_minor": 4
}
