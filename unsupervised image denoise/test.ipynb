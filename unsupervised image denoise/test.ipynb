{
   "cells": [
      {
         "cell_type": "code",
         "execution_count": 2,
         "metadata": {},
         "outputs": [],
         "source": [
            "from torchvision.transforms import ToTensor\n",
            "from torchvision.utils import save_image\n",
            "from PIL import Image\n",
            "loader=ToTensor()\n",
            "img=Image.open('data/self2self_pytorch/5.png')\n",
            "save_image(loader(img),'test.png')\n"
         ]
      },
      {
         "cell_type": "code",
         "execution_count": 7,
         "metadata": {},
         "outputs": [
            {
               "name": "stdout",
               "output_type": "stream",
               "text": [
                  "tensor([[[0., 1., 0.],\n",
                  "         [1., 1., 1.],\n",
                  "         [1., 0., 1.]],\n",
                  "\n",
                  "        [[1., 0., 1.],\n",
                  "         [0., 1., 1.],\n",
                  "         [0., 0., 1.]],\n",
                  "\n",
                  "        [[1., 1., 1.],\n",
                  "         [0., 0., 0.],\n",
                  "         [1., 1., 1.]]], device='cuda:0')\n",
                  "tensor([[[0.0000, 0.1667, 0.0000],\n",
                  "         [0.1667, 0.1667, 0.1667],\n",
                  "         [0.1667, 0.0000, 0.1667]],\n",
                  "\n",
                  "        [[0.2000, 0.0000, 0.2000],\n",
                  "         [0.0000, 0.2000, 0.2000],\n",
                  "         [0.0000, 0.0000, 0.2000]],\n",
                  "\n",
                  "        [[0.1667, 0.1667, 0.1667],\n",
                  "         [0.0000, 0.0000, 0.0000],\n",
                  "         [0.1667, 0.1667, 0.1667]]], device='cuda:0')\n"
               ]
            }
         ],
         "source": [
            "import math\n",
            "from torch import tensor, cat, zeros, ones,  randperm, bernoulli, full\n",
            "from torch.nn.functional import conv2d\n",
            "def create_mask(channels=3, height=512, width=512, percent=0.2, probability=0.25, mode='bernoulli', device='cuda'):\n",
            "    if mode == 'percent':\n",
            "        num = width*height*channels\n",
            "        num_zeros = math.floor(num*percent)\n",
            "        num_ones = num-num_zeros\n",
            "        x = cat((zeros(num_zeros, device=device), ones(num_ones, device=device)))\n",
            "        x = x[randperm(num)]\n",
            "        x = x.view((channels,height, width))\n",
            "        return x\n",
            "    elif mode == 'bernoulli':\n",
            "        return bernoulli(full((channels,height, width), 1-probability, device=device))\n",
            "m=create_mask(height=3,width=3)\n",
            "print(m)\n",
            "for i in range(m.shape[0]):\n",
            "    t=m.select(0,i)\n",
            "    t/=t.sum()\n",
            "print(m)\n"
         ]
      }
   ],
   "metadata": {
      "kernelspec": {
         "display_name": "Python 3",
         "language": "python",
         "name": "python3"
      },
      "language_info": {
         "codemirror_mode": {
            "name": "ipython",
            "version": 3
         },
         "file_extension": ".py",
         "mimetype": "text/x-python",
         "name": "python",
         "nbconvert_exporter": "python",
         "pygments_lexer": "ipython3",
         "version": "3.10.8"
      },
      "orig_nbformat": 4,
      "vscode": {
         "interpreter": {
            "hash": "d5d6a002194865cab5a4bec71c277f27d10bc8e4f07be28304c019a3736a4e23"
         }
      }
   },
   "nbformat": 4,
   "nbformat_minor": 2
}
