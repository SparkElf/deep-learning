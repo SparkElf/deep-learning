{
 "cells": [
  {
   "attachments": {},
   "cell_type": "markdown",
   "metadata": {},
   "source": [
    "# 简介\n",
    "- [self2self](https://openaccess.thecvf.com/content_CVPR_2020/papers/Quan_Self2Self_With_Dropout_Learning_Self-Supervised_Denoising_From_Single_Image_CVPR_2020_paper.pdf)是利用单张图片就可以进行去噪\n",
    "- 利用伯努利采样得到的图片作为去噪网络输入伯努利采样的补集作为预测目标\n",
    "- 仅在伯努利采样补集上计算损失\n",
    "- 在伯努利采样概率0.3下运行100000次效果比较好\n",
    "- 论文中的网络结构使用了partial convolution和dropout，dropout比较关键\n",
    "- 掩码必须每个channel都不同效果才最好\n",
    "- 图片输入时调用toTensor即可，不要进行标准化\n",
    "- 不要使用randomFlip，不要使用多张图片，否则会破坏分布\n",
    "- 如何腐蚀noise图像是一个需要探讨的话题\n",
    "- L1 loss没有L2 loss抗噪，很容易出现彩块\n",
    "- 学习率不能过大，否则会很快学到噪声，并且adamw会梯度爆炸\n",
    "- 从雪坑的质感看，网络学到的近似于溶解\n",
    "- 加式残差学习在监督学习中效果很好，在无监督学习中起负面作用，直接加法的特点是高频特征学得很快，建议用拼接代替加法实现残差。\n",
    "- 神经网络对噪声的阻抗来自于伯努利抽样、池化层、cat操作\n",
    "- 采样概率过小或者过大都会加剧模糊\n",
    "- 第一层和最后一层的通道数对结果影响非常大，建议输入通道数至少达到64\n",
    "- 不用sigmoid函数图像会暗很多,清晰度也下降，但不管这样去噪后图片亮度都会偏暗\n",
    "- 网络越深色偏越大"
   ]
  },
  {
   "cell_type": "markdown",
   "metadata": {},
   "source": [
    "# 环境"
   ]
  },
  {
   "cell_type": "code",
   "execution_count": null,
   "metadata": {
    "slideshow": {
     "slide_type": "subslide"
    }
   },
   "outputs": [],
   "source": [
    "import torch\n",
    "import torchmetrics\n",
    "import torchvision\n",
    "import os\n",
    "import gc\n",
    "import torch.nn as nn\n",
    "from torchvision import transforms\n",
    "from torchvision.utils import save_image\n",
    "from PIL import Image\n",
    "from tqdm.notebook import tnrange\n",
    "\n",
    "print(torch.__version__)\n",
    "device='cuda' if torch.cuda.is_available() else 'cpu'\n",
    "print(device)\n",
    "if device=='cuda':\n",
    "    gc.collect()\n",
    "    torch.cuda.empty_cache()\n",
    "print(os.getcwd())\n"
   ]
  },
  {
   "cell_type": "markdown",
   "metadata": {},
   "source": [
    "# 模型"
   ]
  },
  {
   "cell_type": "code",
   "execution_count": null,
   "metadata": {},
   "outputs": [],
   "source": [
    "\n",
    "class HourGlassCNNBlock(nn.Module):\n",
    "    def __init__(self,in_channels,out_channels,p=0.3,device='cuda'):\n",
    "        super(HourGlassCNNBlock,self).__init__()\n",
    "        self.main=nn.Sequential(\n",
    "            nn.Conv1d(in_channels=in_channels, out_channels=out_channels, kernel_size=3, padding=1,device=device),\n",
    "            nn.Dropout1d(p),\n",
    "            nn.SiLU(),\n",
    "        )\n",
    "    def forward(self,x):\n",
    "        return self.main(x)#channel不同不能进行残差学习\n",
    "\n",
    "class HourGlassCNN(nn.Module):\n",
    "    def __init__(self,p=0.3,device='cuda'):\n",
    "        super(HourGlassCNN,self).__init__()\n",
    "        self.b1=HourGlassCNNBlock(478*3,2**12,p=p,device=device)\n",
    "        self.b2=HourGlassCNNBlock(2**12,2**12,p=p,device=device)\n",
    "        self.b3=HourGlassCNNBlock(2**12,2**13,p=p,device=device)\n",
    "        self.b4=HourGlassCNNBlock(2**13,2**14,p=p,device=device)\n",
    "        self.b5=HourGlassCNNBlock(2**14,2**13,p=p,device=device)\n",
    "\n",
    "        self.b6=HourGlassCNNBlock(2**14,2**13,p=p,device=device)\n",
    "        self.b7=HourGlassCNNBlock(2**13,2**12,p=p,device=device)\n",
    "        self.b8=HourGlassCNNBlock(2**13,2**12,p=p,device=device)\n",
    "        self.b9=HourGlassCNNBlock(2**12,2**12,p=p,device=device)\n",
    "        self.b10=nn.Sequential(\n",
    "            nn.Conv1d(2**12,478*3,kernel_size=3,padding=1,device=device),\n",
    "            nn.Dropout1d(p),\n",
    "            nn.Sigmoid()\n",
    "        )\n",
    "\n",
    "    def forward(self,x):\n",
    "        b1=self.b1(x)\n",
    "        b2=self.b2(b1)\n",
    "        b3=self.b3(b2)\n",
    "        b4=self.b4(b3)\n",
    "        b5=self.b5(b4)\n",
    "        b6=self.b6(torch.cat((b5,b3),dim=1))\n",
    "        b7=self.b7(b6)\n",
    "        b8=self.b8(torch.cat((b7,b1),dim=1))\n",
    "        b9=self.b9(b8)\n",
    "        b10=self.b10(b9)\n",
    "        return b10\n",
    "\n",
    "class Denoiser(nn.Module):\n",
    "    def __init__(self,p=0.3,device='cuda'):\n",
    "        super(Denoiser,self).__init__()\n",
    "        self.main=HourGlassCNN(p=p,device=device)\n",
    "    def forward(self,x):\n",
    "        return self.main(x)\n",
    "\n",
    "import math\n",
    "from torch import tensor, cat, zeros, ones,  randperm, bernoulli, full\n",
    "\n",
    "\n",
    "# percent:percent of zeros in mask\n",
    "def create_mask(channels=478*3, length=30*10, percent=0.25, probability=0.25, mode='bernoulli', device='cuda'):\n",
    "    if mode == 'percent':\n",
    "        num =channels*length\n",
    "        num_zeros = math.floor(num*percent)\n",
    "        num_ones = num-num_zeros\n",
    "        x = cat((zeros(num_zeros, device=device), ones(num_ones, device=device)))\n",
    "        x = x[randperm(num)]\n",
    "        x = x.view((channels,length))\n",
    "        return x\n",
    "    elif mode == 'bernoulli':\n",
    "        return bernoulli(full((channels,length), 1-probability, device=device))\n"
   ]
  },
  {
   "cell_type": "markdown",
   "metadata": {},
   "source": [
    "# 分析"
   ]
  },
  {
   "cell_type": "code",
   "execution_count": null,
   "metadata": {},
   "outputs": [],
   "source": [
    "import torch.utils.tensorboard\n",
    "from torch.utils.tensorboard.writer import SummaryWriter\n",
    "from tqdm.notebook import tqdm\n",
    "from torchvision.utils import make_grid"
   ]
  },
  {
   "cell_type": "markdown",
   "metadata": {},
   "source": [
    "# 数据"
   ]
  },
  {
   "cell_type": "code",
   "execution_count": null,
   "metadata": {},
   "outputs": [],
   "source": [
    "import json\n",
    "from torch import tensor\n",
    "with open('data/2.txt','r') as fp:\n",
    "    noisy=tensor(json.load(fp),device=device).flatten(1,2).permute([1,0])"
   ]
  },
  {
   "cell_type": "markdown",
   "metadata": {},
   "source": [
    "# 训练"
   ]
  },
  {
   "cell_type": "code",
   "execution_count": null,
   "metadata": {},
   "outputs": [],
   "source": [
    "from torch import optim,zeros\n",
    "model = Denoiser(device=device).to(device=device)\n",
    "optimizer = optim.Adam(model.parameters(),lr=1e-4)\n",
    "mse = nn.MSELoss(reduction='sum')\n",
    "for itr in tnrange(500000):\n",
    "\tmodel.train()\n",
    "\tmask=create_mask()\n",
    "\tmask_inv=1-mask\n",
    "\t\t\t\n",
    "\tloss=mse( model(noisy*mask)*mask_inv, noisy*mask_inv)/mask_inv.sum()\n",
    "\toptimizer.zero_grad()\n",
    "\tloss.backward()\n",
    "\toptimizer.step()\n",
    "\t\t\n",
    "\t#break\n",
    "\tif (itr+1)%1000 == 0:\n",
    "\t\twith torch.no_grad():\n",
    "\t\t\tmodel.eval()\n",
    "\t\t\tout = zeros((1,478*3,300),device=device)\n",
    "\t\t\tfor j in range(100):\n",
    "\t\t\t\tmask=create_mask()\n",
    "\t\t\t\tout+=model(noisy*mask)\n",
    "\t\t\tout/=100\n",
    "\t\t\tprint(\"iteration %d, loss = %.4f\" % (itr+1, loss.item()*100))\n",
    "\t\t\tjson.dumps(out.tolist(),f\"result/{str(itr+1)}.txt\")"
   ]
  }
 ],
 "metadata": {
  "kernelspec": {
   "display_name": "Python 3",
   "language": "python",
   "name": "python3"
  },
  "language_info": {
   "codemirror_mode": {
    "name": "ipython",
    "version": 3
   },
   "file_extension": ".py",
   "mimetype": "text/x-python",
   "name": "python",
   "nbconvert_exporter": "python",
   "pygments_lexer": "ipython3",
   "version": "3.10.8 | packaged by conda-forge | (main, Nov 24 2022, 14:07:00) [MSC v.1916 64 bit (AMD64)]"
  },
  "vscode": {
   "interpreter": {
    "hash": "d5d6a002194865cab5a4bec71c277f27d10bc8e4f07be28304c019a3736a4e23"
   }
  }
 },
 "nbformat": 4,
 "nbformat_minor": 4
}
