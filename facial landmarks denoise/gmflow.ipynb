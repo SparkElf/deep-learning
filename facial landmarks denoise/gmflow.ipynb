{
 "cells": [
  {
   "cell_type": "code",
   "execution_count": null,
   "metadata": {},
   "outputs": [],
   "source": [
    "from OpticalFlow.gmflow.gmflow.gmflow import GMFlow\n",
    "import torch\n",
    "\n",
    "@torch.no_grad()\n",
    "def main():\n",
    "    model = GMFlow(feature_channels=128,\n",
    "                   num_scales=1,\n",
    "                   upsample_factor=8,\n",
    "                   num_head=1,\n",
    "                   attention_type='swin',\n",
    "                   ffn_dim_expansion=4,\n",
    "                   num_transformer_layers=6,\n",
    "                   ).cuda() \n",
    "    model.eval()\n",
    "\n",
    "    model.load_state_dict('')\n",
    "    #逐帧处理光流\n",
    "    import cv2\n",
    "    cap=cv2.VideoCapture(0)\n",
    "    cap.open('data/source1.mp4')\n",
    "    lastFrame=None\n",
    "    writer = cv2.VideoWriter(\"data/flow1.mp4\", cv2.VideoWriter_fourcc(*'XVID'), 30., (640,480))\n",
    "    count=0\n",
    "    while cap.isOpened:\n",
    "      success, frame = cap.read()\n",
    "      if not success:\n",
    "        print(\"End\")\n",
    "        break\n",
    "      frame=torch.from_numpy(frame).cuda().float().permute([2,0,1]).unsqueeze(0)\n",
    "      if lastFrame is not None:\n",
    "        padder = InputPadder(frame.shape)\n",
    "        with torch.no_grad():\n",
    "          flow=model(lastFrame,frame)[0].squeeze(0).permute([1,2,0]).cpu().numpy()\n",
    "          flow_image=flow_to_image(flow)\n",
    "          cv2.imshow('flow',flow_image)\n",
    "      lastFrame=frame\n",
    "      count+=1\n",
    "      print(count)\n",
    "\n",
    "    cap.release()\n",
    "    writer.release()\n",
    "    cv2.destroyAllWindows()\n",
    "\n",
    "main()"
   ]
  }
 ],
 "metadata": {
  "kernelspec": {
   "display_name": "Python 3",
   "language": "python",
   "name": "python3"
  },
  "language_info": {
   "name": "python",
   "version": "3.10.8"
  },
  "orig_nbformat": 4,
  "vscode": {
   "interpreter": {
    "hash": "d5d6a002194865cab5a4bec71c277f27d10bc8e4f07be28304c019a3736a4e23"
   }
  }
 },
 "nbformat": 4,
 "nbformat_minor": 2
}
