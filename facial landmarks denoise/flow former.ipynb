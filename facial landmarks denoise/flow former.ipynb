{
 "cells": [
  {
   "cell_type": "code",
   "execution_count": 1,
   "metadata": {},
   "outputs": [
    {
     "name": "stdout",
     "output_type": "stream",
     "text": [
      "1\n"
     ]
    },
    {
     "name": "stderr",
     "output_type": "stream",
     "text": [
      "d:\\software\\TorchStudio\\python\\lib\\site-packages\\torch\\functional.py:504: UserWarning: torch.meshgrid: in an upcoming release, it will be required to pass the indexing argument. (Triggered internally at C:\\cb\\pytorch_1000000000000\\work\\aten\\src\\ATen\\native\\TensorShape.cpp:3191.)\n",
      "  return _VF.meshgrid(tensors, **kwargs)  # type: ignore[attr-defined]\n"
     ]
    },
    {
     "name": "stdout",
     "output_type": "stream",
     "text": [
      "2\n",
      "3\n"
     ]
    },
    {
     "ename": "",
     "evalue": "",
     "output_type": "error",
     "traceback": [
      "\u001b[1;31mCanceled future for execute_request message before replies were done"
     ]
    },
    {
     "ename": "",
     "evalue": "",
     "output_type": "error",
     "traceback": [
      "\u001b[1;31m在当前单元格或上一个单元格中执行代码时 Kernel 崩溃。请查看单元格中的代码，以确定故障的可能原因。有关详细信息，请单击 <a href='https://aka.ms/vscodeJupyterKernelCrash'>此处</a>。有关更多详细信息，请查看 Jupyter <a href='command:jupyter.viewOutput'>log</a>。"
     ]
    }
   ],
   "source": [
    "from OpticalFlow.FlowFormer.core.FlowFormer import build_flowformer\n",
    "from OpticalFlow.FlowFormer.configs.faciallandmark import get_cfg\n",
    "from OpticalFlow.FlowFormer.core.utils.utils import InputPadder\n",
    "from OpticalFlow.FlowFormer.core.utils.flow_viz import flow_to_image\n",
    "import torch\n",
    "\n",
    "cfg=get_cfg()\n",
    "model=build_flowformer(cfg).to(device='cuda')\n",
    "#https://discuss.pytorch.org/t/solved-keyerror-unexpected-key-module-encoder-embedding-weight-in-state-dict/1686/4\n",
    "from collections import OrderedDict\n",
    "state_dict=torch.load(cfg.model)\n",
    "new_state_dict = OrderedDict()\n",
    "for k, v in state_dict.items():\n",
    "  name = k[7:] # 删除module.\n",
    "  new_state_dict[name] = v\n",
    "model.load_state_dict(new_state_dict)\n",
    "model.eval()\n",
    "#逐帧处理光流\n",
    "import cv2\n",
    "cap=cv2.VideoCapture(0)\n",
    "cap.open('data/source1.mp4')\n",
    "lastFrame=None\n",
    "writer = cv2.VideoWriter(\"data/flow1.mp4\", cv2.VideoWriter_fourcc(*'XVID'), 30., (640,480))\n",
    "count=0\n",
    "while cap.isOpened:\n",
    "  success, frame = cap.read()\n",
    "  if not success:\n",
    "    print(\"End\")\n",
    "    break\n",
    "  frame=torch.from_numpy(frame).cuda().float().permute([2,0,1]).unsqueeze(0)\n",
    "  if lastFrame is not None:\n",
    "    padder = InputPadder(frame.shape)\n",
    "    with torch.no_grad():\n",
    "      flow=model(lastFrame,frame)[0].squeeze(0).permute([1,2,0]).cpu().numpy()\n",
    "      flow_image=flow_to_image(flow)\n",
    "      cv2.imshow('flow',flow_image)\n",
    "  lastFrame=frame\n",
    "  count+=1\n",
    "  print(count)\n",
    "\n",
    "cap.release()\n",
    "writer.release()\n",
    "cv2.destroyAllWindows()"
   ]
  }
 ],
 "metadata": {
  "kernelspec": {
   "display_name": "Python 3",
   "language": "python",
   "name": "python3"
  },
  "language_info": {
   "codemirror_mode": {
    "name": "ipython",
    "version": 3
   },
   "file_extension": ".py",
   "mimetype": "text/x-python",
   "name": "python",
   "nbconvert_exporter": "python",
   "pygments_lexer": "ipython3",
   "version": "3.10.8"
  },
  "orig_nbformat": 4,
  "vscode": {
   "interpreter": {
    "hash": "d5d6a002194865cab5a4bec71c277f27d10bc8e4f07be28304c019a3736a4e23"
   }
  }
 },
 "nbformat": 4,
 "nbformat_minor": 2
}
