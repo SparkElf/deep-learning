{
    "cells": [
        {
            "attachments": {},
            "cell_type": "markdown",
            "metadata": {
                "id": "aSQhm5MviOGw"
            },
            "source": [
                "# 环境"
            ]
        },
        {
            "cell_type": "code",
            "execution_count": 12,
            "metadata": {},
            "outputs": [
                {
                    "name": "stdout",
                    "output_type": "stream",
                    "text": [
                        "1.11.0+cu113\n",
                        "cuda\n",
                        "/root/autodl-tmp/deep-learning/DNCNN\n"
                    ]
                }
            ],
            "source": [
                "import torch\n",
                "import torchmetrics\n",
                "import torchvision\n",
                "import os\n",
                "import gc\n",
                "print(torch.__version__)\n",
                "device='cuda' if torch.cuda.is_available() else 'cpu'\n",
                "print(device)\n",
                "if device=='cuda':\n",
                "    gc.collect()\n",
                "    torch.cuda.empty_cache()\n",
                "print(os.getcwd())\n"
            ]
        },
        {
            "cell_type": "code",
            "execution_count": 13,
            "metadata": {
                "id": "v5VYUqe8i2vY"
            },
            "outputs": [],
            "source": [
                "import os\n",
                "import numpy as np\n",
                "import torch\n",
                "import torch.nn as nn\n",
                "from torchvision import transforms\n",
                "from PIL import Image\n",
                "import matplotlib.pyplot as plt\n",
                "from torch.utils.data import DataLoader\n",
                "from torch.utils.data import Dataset\n",
                "import torch.utils.tensorboard\n",
                "from torch.utils.tensorboard.writer import SummaryWriter\n",
                "from torchvision.utils import make_grid\n",
                "from tqdm.notebook import tqdm\n",
                "from torchmetrics import PeakSignalNoiseRatio\n",
                "import torch.nn.functional\n",
                "from torch.optim import Adam"
            ]
        },
        {
            "attachments": {},
            "cell_type": "markdown",
            "metadata": {},
            "source": [
                "# 分析"
            ]
        },
        {
            "cell_type": "code",
            "execution_count": 14,
            "metadata": {},
            "outputs": [],
            "source": [
                "def convert_to_rgb255(image:torch.Tensor):\n",
                "    image = (image + 1) / 2\n",
                "    image[image < 0] = 0\n",
                "    image[image > 1] = 1\n",
                "    return image\n",
                "def show_image(image:torch.Tensor):\n",
                "    image=convert_to_rgb255(image)\n",
                "    plt.imshow(transforms.ToPILImage()(image))\n",
                "    plt.show()\n",
                "\n",
                "writer=SummaryWriter()\n",
                "psnr=PeakSignalNoiseRatio().to(device=device)"
            ]
        },
        {
            "attachments": {},
            "cell_type": "markdown",
            "metadata": {
                "id": "-5kekEsZlsd4"
            },
            "source": [
                "# 数据\n",
                "标准差为30的高斯噪声180*180彩铅（左上角或者随机位置）"
            ]
        },
        {
            "cell_type": "code",
            "execution_count": 15,
            "metadata": {},
            "outputs": [],
            "source": [
                "class BSDSPairsDataset(Dataset):\n",
                "\n",
                "    def __init__(self, root_dir, mode='train', image_size=(128, 128), sigma=30):\n",
                "        super(BSDSPairsDataset, self).__init__()\n",
                "        self.mode = mode\n",
                "        self.image_size = image_size\n",
                "        self.sigma = sigma\n",
                "        self.images_dir = os.path.join(root_dir, mode)\n",
                "        self.files = os.listdir(self.images_dir)\n",
                "\n",
                "    def __len__(self):\n",
                "        return len(self.files)\n",
                "\n",
                "    def __getitem__(self, idx):\n",
                "        img_path = os.path.join(self.images_dir, self.files[idx])\n",
                "        clean = Image.open(img_path).convert('RGB')#比torchvision的好\n",
                "        transform = transforms.Compose([\n",
                "            transforms.CenterCrop(128),\n",
                "            # hwc->chw 并 归一化到[0,1]\n",
                "            transforms.ToTensor(),\n",
                "            # [−1,1]\n",
                "            transforms.Normalize((.5, .5, .5), (.5, .5, .5)),\n",
                "            ])\n",
                "        clean = transform(clean)\n",
                "        \n",
                "        noisy = clean + self.sigma * torch.randn(clean.shape)/255\n",
                "        return noisy, clean"
            ]
        },
        {
            "cell_type": "code",
            "execution_count": 16,
            "metadata": {
                "id": "uwkgPTDmlrUD"
            },
            "outputs": [],
            "source": [
                "train_set= BSDSPairsDataset('data/BSDS300/images/')\n",
                "test_set = BSDSPairsDataset('data/BSDS300/128x128/',mode = 'test')\n",
                "train_loader=DataLoader(train_set,batch_size=8,shuffle=True)\n",
                "test_loader=DataLoader(test_set,batch_size=8,shuffle=True)"
            ]
        },
        {
            "cell_type": "raw",
            "metadata": {},
            "source": [
                "noisy,clean=test_set[0]\n",
                "show_image(noisy)\n",
                "show_image(clean)"
            ]
        },
        {
            "attachments": {},
            "cell_type": "markdown",
            "metadata": {},
            "source": [
                "# 模型"
            ]
        },
        {
            "cell_type": "code",
            "execution_count": 17,
            "metadata": {
                "id": "jynQXow_ntAG"
            },
            "outputs": [],
            "source": [
                "class DnCNN(nn.Module):\n",
                "    def __init__(self, deep, channel=64):\n",
                "        super(DnCNN,self).__init__()\n",
                "        self.deep=deep\n",
                "        self.channel=channel\n",
                "\n",
                "        self.layers = nn.ModuleList()\n",
                "        self.layers.append(nn.Sequential(\n",
                "            nn.Conv2d(in_channels=3, out_channels=channel, kernel_size=3, padding=1),\n",
                "            nn.SiLU()\n",
                "        ))\n",
                "        for _ in range(deep-2):\n",
                "            self.layers.append(nn.Sequential(\n",
                "                nn.Conv2d(in_channels=channel, out_channels=channel, kernel_size=3, padding=1),\n",
                "                nn.BatchNorm2d(channel),\n",
                "                nn.SiLU()\n",
                "            ))\n",
                "        self.layers.append(nn.Conv2d(in_channels=channel, out_channels=3, kernel_size=3, padding=1))\n",
                "    def forward(self, x):\n",
                "        y=x\n",
                "        for layer in self.layers:y=layer(y)\n",
                "        return y+x #残差学习，学习噪声比学习输出干净图像更容易\n",
                "    def loss(self,input,target,alpha=0.95,beta=0.05)->torch.Tensor:\n",
                "        percetual_loss=None #感知损失 相似度 感知损失只是修正量、正则项，而不是目标项，不同的输入每一层的输出都相同是不可能的，所以它的比例应该尽可能小\n",
                "        x,y=input,target\n",
                "        for layer in self.layers:\n",
                "            x=layer(x)\n",
                "            y=layer(y)\n",
                "            if percetual_loss==None:percetual_loss=nn.functional.smooth_l1_loss(x,y,beta=0.1)\n",
                "            else:percetual_loss+=nn.functional.smooth_l1_loss(x,y,beta=0.1)\n",
                "        return alpha*nn.functional.smooth_l1_loss(x+input,target,beta=0.1)+beta*percetual_loss/self.deep"
            ]
        },
        {
            "cell_type": "code",
            "execution_count": 18,
            "metadata": {},
            "outputs": [],
            "source": [
                "class StackDnCNN(nn.Module):\n",
                "    def __init__(self,size,deep,channel=64):\n",
                "        super(StackDnCNN,self).__init__()\n",
                "        self.deep=deep\n",
                "        self.channel=channel\n",
                "        self.size=size\n",
                "        self.dncnns=nn.ModuleList()\n",
                "        for _ in range(size):self.dncnns.append(DnCNN(deep,channel))\n",
                "        self.optimizers=[Adam(dncnn.parameters(),lr=1e-3) for dncnn in self.dncnns]\n",
                "    def forward(self,x):\n",
                "        for dncnn in self.dncnns:y=dncnn(x)\n",
                "        return x"
            ]
        },
        {
            "cell_type": "code",
            "execution_count": 19,
            "metadata": {},
            "outputs": [],
            "source": [
                "class HourGlassCNNBlock(nn.Module):\n",
                "    def __init__(self,in_channels,out_channels,size=(128,128),layernorm=False,batchnorm=False,activation=True):\n",
                "        super(HourGlassCNNBlock,self).__init__()\n",
                "        layers=[]\n",
                "        layers.append(nn.Conv2d(in_channels=in_channels, out_channels=out_channels, kernel_size=3, padding=1))\n",
                "        if layernorm:layers.append(nn.LayerNorm([out_channels,size[0],size[1]]))\n",
                "        if batchnorm:layers.append(nn.BatchNorm2d(out_channels))\n",
                "        if activation:layers.append(nn.SiLU())\n",
                "        self.main=nn.Sequential(*layers)\n",
                "    def forward(self,x):\n",
                "        return self.main(x)#channel不同不能进行残差学习\n",
                "\n",
                "class HourGlassCNN(nn.Module):\n",
                "    def __init__(self,size=(128,128),layernorm=False,batchnorm=False):\n",
                "        super(HourGlassCNN,self).__init__()\n",
                "        self.blocks=nn.ModuleList([\n",
                "            HourGlassCNNBlock(3,64,size,layernorm=False,batchnorm=False),#0\n",
                "            HourGlassCNNBlock(64,128,size,layernorm,batchnorm),#1\n",
                "            HourGlassCNNBlock(128,256,size,layernorm,batchnorm),#2\n",
                "            HourGlassCNNBlock(256,512,size,layernorm,batchnorm),#3\n",
                "            HourGlassCNNBlock(512,1024,size,layernorm,batchnorm),#4\n",
                "\n",
                "            HourGlassCNNBlock(1024,512,size,layernorm,batchnorm),#5\n",
                "            HourGlassCNNBlock(512,256,size,layernorm,batchnorm),#6\n",
                "            HourGlassCNNBlock(256,128,size,layernorm,batchnorm),#7\n",
                "            HourGlassCNNBlock(128,64,size,layernorm,batchnorm),#8\n",
                "            HourGlassCNNBlock(64,3,size,layernorm=False,batchnorm=False,activation=False),#9\n",
                "        ])\n",
                "    def forward(self,x):\n",
                "        y0=self.blocks[0](x)\n",
                "        y1=self.blocks[1](y0)\n",
                "        y2=self.blocks[2](y1)\n",
                "        y3=self.blocks[3](y2)\n",
                "\n",
                "        y4=self.blocks[4](y3)\n",
                "\n",
                "        y5=self.blocks[5](y4)+y3#残差\n",
                "        y6=self.blocks[6](y5)+y2\n",
                "        y7=self.blocks[7](y6)+y1\n",
                "        y8=self.blocks[8](y7)+y0\n",
                "    \n",
                "        y9=self.blocks[9](y8)+x\n",
                "        return y9\n",
                "    def loss(self,input,target):\n",
                "        return nn.functional.smooth_l1_loss(self(input),target,beta=0.1)"
            ]
        },
        {
            "cell_type": "raw",
            "metadata": {
                "colab": {
                    "base_uri": "https://localhost:8080/",
                    "height": 536
                },
                "executionInfo": {
                    "elapsed": 11641,
                    "status": "ok",
                    "timestamp": 1644499082859,
                    "user": {
                        "displayName": "MO MO",
                        "photoUrl": "https://lh3.googleusercontent.com/a/default-user=s64",
                        "userId": "05567976215913813357"
                    },
                    "user_tz": -480
                },
                "id": "xI4Xhq6XocRN",
                "outputId": "696d3379-b475-401e-e9be-220c98f9c484"
            },
            "source": [
                "#查看残差\n",
                "x, _ = train_set[-1]\n",
                "x = x.unsqueeze(0).to(device)\n",
                "Ds = [2, 4, 6, 8, 10]\n",
                "\n",
                "for i in range(len(Ds)):\n",
                "    with torch.no_grad():\n",
                "        model = DnCNN(Ds[i]).to(device)\n",
                "        y = model(x)\n",
                "    show_image(x[0])\n",
                "    show_image(y[0])\n",
                "    show_image(x[0]-y[0])"
            ]
        },
        {
            "attachments": {},
            "cell_type": "markdown",
            "metadata": {
                "id": "PFGL5yyfraR8"
            },
            "source": [
                "# 训练"
            ]
        },
        {
            "cell_type": "markdown",
            "metadata": {},
            "source": [
                "## DnCNN"
            ]
        },
        {
            "cell_type": "raw",
            "metadata": {
                "id": "RxqfSIFLrZOY"
            },
            "source": [
                "model = DnCNN(10).to(device)\n",
                "optimizer = torch.optim.Adam(model.parameters(), lr=1e-3)"
            ]
        },
        {
            "cell_type": "raw",
            "metadata": {},
            "source": [
                "\n",
                "def train(input,target):\n",
                "    optimizer.zero_grad()\n",
                "    loss=model.loss(input,target)\n",
                "    loss.backward()\n",
                "    optimizer.step()\n",
                "    return loss\n",
                "def draw(mean_loss,noisys,cleans,outs,epoch):\n",
                "    writer.add_scalar('loss',mean_loss,epoch)\n",
                "    writer.add_scalar('psnr',psnr(outs,cleans),epoch)\n",
                "    writer.add_image('noisy',make_grid(convert_to_rgb255(noisys)),epoch)\n",
                "    writer.add_image('clean',make_grid(convert_to_rgb255(cleans)),epoch)\n",
                "    writer.add_image('out',make_grid(convert_to_rgb255(outs)),epoch)"
            ]
        },
        {
            "attachments": {},
            "cell_type": "markdown",
            "metadata": {},
            "source": [
                "## StackDnCNN"
            ]
        },
        {
            "cell_type": "raw",
            "metadata": {},
            "source": [
                "model = StackDnCNN(3,10).to(device)"
            ]
        },
        {
            "cell_type": "raw",
            "metadata": {},
            "source": [
                "def train(input,target):\n",
                "    x=input\n",
                "    loss=None\n",
                "    for i in range(model.size):\n",
                "        model.optimizers[i].zero_grad()\n",
                "        loss=model.dncnns[i].loss(x,target)\n",
                "        if i!=model.size-1:loss.backward(retain_graph=True)\n",
                "        else:loss.backward()#避免内存泄漏\n",
                "        model.optimizers[i].step()\n",
                "        x=model.dncnns[i](x)#detach和不detach代表是否对网络进行联合优化 联合优化不一定能收敛 不detach要在backward添加retain_graph=True，否则计算图计算反向传播后就删除\n",
                "    return loss\n",
                "def draw(mean_loss,noisys,cleans,epoch):\n",
                "    writer.add_scalar('loss',mean_loss,epoch)\n",
                "    writer.add_scalar('psnr',psnr(model(noisys),cleans),epoch)\n",
                "    writer.add_image('noisy',convert_to_rgb255(noisys[0]),epoch)\n",
                "    writer.add_image('clean',convert_to_rgb255(cleans[0]),epoch)\n",
                "    x=noisys\n",
                "    for i in range(model.size):\n",
                "        writer.add_image('out%d'%i,convert_to_rgb255(model.dncnns[i](x)[0]),epoch)\n",
                "        x=model.dncnns[i](x)\n"
            ]
        },
        {
            "attachments": {},
            "cell_type": "markdown",
            "metadata": {},
            "source": [
                "## HourGlassCNN"
            ]
        },
        {
            "cell_type": "raw",
            "metadata": {},
            "source": [
                "model = HourGlassCNN(layernorm=True,batchnorm=True).to(device)#norm可能导致光斑，但是如果layernorm、batchnorm全开细节提升明显，batchnorm和layernorm的调整必须对称\n",
                "optimizer = torch.optim.Adam(model.parameters(), lr=1e-3)"
            ]
        },
        {
            "cell_type": "raw",
            "metadata": {},
            "source": [
                "def train(input,target):\n",
                "    optimizer.zero_grad()\n",
                "    loss=model.loss(input,target)\n",
                "    loss.backward()\n",
                "    optimizer.step()\n",
                "    return loss\n",
                "def draw(mean_loss_noisy,mean_loss_clean,noisys,cleans,epoch):\n",
                "    outs=model(noisys)\n",
                "    writer.add_scalar('noisy_loss',mean_loss_noisy,epoch)\n",
                "    writer.add_scalar('clean_loss',mean_loss_clean,epoch)\n",
                "    writer.add_scalar('psnr',psnr(outs,cleans),epoch)\n",
                "    writer.add_image('noisy',make_grid(convert_to_rgb255(noisys)),epoch)\n",
                "    writer.add_image('clean',make_grid(convert_to_rgb255(cleans)),epoch)\n",
                "    writer.add_image('out',make_grid(convert_to_rgb255(outs)),epoch)"
            ]
        },
        {
            "cell_type": "raw",
            "metadata": {},
            "source": [
                "def main():\n",
                "    for epoch in tqdm(range(5000)):\n",
                "        mean_loss_noisy,mean_loss_clean=0,0\n",
                "        for noisys,cleans in train_loader:\n",
                "            noisys=noisys.to(device=device)\n",
                "            cleans=cleans.to(device=device)\n",
                "            mean_loss_noisy+=train(noisys,cleans).sum()\n",
                "            mean_loss_clean+=train(cleans,cleans).sum()\n",
                "        with torch.no_grad():\n",
                "            draw(mean_loss_noisy,mean_loss_clean,noisys,cleans,epoch)\n",
                "main()"
            ]
        },
        {
            "cell_type": "raw",
            "metadata": {},
            "source": [
                "# noise as clean：noisy-P'->noisy' 如果clean-P->noisy中的P近似于P'那么(noisy',noisy)训练可以近似复原噪声图片\n",
                "def train(input,target):\n",
                "    optimizer.zero_grad()\n",
                "    loss=model.loss(input,target)\n",
                "    loss.backward()\n",
                "    optimizer.step()\n",
                "    return loss\n",
                "def draw(mean_loss_noisy,mean_loss_clean,noisys,cleans,epoch):\n",
                "    outs=model(noisys)\n",
                "    writer.add_scalar('noisy_loss',mean_loss_noisy,epoch)\n",
                "    writer.add_scalar('clean_loss',mean_loss_clean,epoch)\n",
                "    writer.add_scalar('psnr',psnr(outs,cleans),epoch)\n",
                "    writer.add_image('noisy',make_grid(convert_to_rgb255(noisys)),epoch)\n",
                "    writer.add_image('clean',make_grid(convert_to_rgb255(cleans)),epoch)\n",
                "    writer.add_image('out',make_grid(convert_to_rgb255(outs)),epoch)\n",
                "def main(): \n",
                "    for epoch in tqdm(range(5000)):\n",
                "        mean_loss_noisy,mean_loss_clean=0,0\n",
                "        for noisys,cleans in train_loader:\n",
                "            noisys=noisys.to(device=device)\n",
                "            cleans=cleans.to(device=device)\n",
                "            noisys2=noisys+torch.randn(noisys.shape).to(device=device)/255*30\n",
                "            mean_loss_noisy+=train(noisys2,noisys).sum()\n",
                "            with torch.no_grad():\n",
                "                mean_loss_clean+=model.loss(noisys,cleans).sum()\n",
                "        with torch.no_grad():\n",
                "            draw(mean_loss_noisy,mean_loss_clean,noisys,cleans,epoch)\n",
                "main()"
            ]
        }
    ],
    "metadata": {
        "accelerator": "GPU",
        "colab": {
            "authorship_tag": "ABX9TyOIHOaFirWZggdhqEWtmqRT",
            "collapsed_sections": [],
            "name": "DnCNN去噪.ipynb",
            "provenance": []
        },
        "kernelspec": {
            "display_name": "Python 3",
            "language": "python",
            "name": "python3"
        },
        "language_info": {
            "codemirror_mode": {
                "name": "ipython",
                "version": 3
            },
            "file_extension": ".py",
            "mimetype": "text/x-python",
            "name": "python",
            "nbconvert_exporter": "python",
            "pygments_lexer": "ipython3",
            "version": "3.10.8 | packaged by conda-forge | (main, Nov 24 2022, 14:07:00) [MSC v.1916 64 bit (AMD64)]"
        },
        "vscode": {
            "interpreter": {
                "hash": "d5d6a002194865cab5a4bec71c277f27d10bc8e4f07be28304c019a3736a4e23"
            }
        }
    },
    "nbformat": 4,
    "nbformat_minor": 0
}
